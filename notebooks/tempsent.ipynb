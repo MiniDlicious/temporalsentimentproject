{
 "cells": [
  {
   "cell_type": "markdown",
   "metadata": {},
   "source": [
    "# Analysis of Sentiment Data Timeline"
   ]
  },
  {
   "cell_type": "markdown",
   "metadata": {},
   "source": [
    "## Introduction\n",
    "This notebook consists of code for performing sentiment analysis on game reviews from Steam.\n",
    "\n",
    "A summary of the content exists below and a table of contents as well. In another notebook is code for using Steam API for mining the reviews. Data is not provided due to API Terms of Use (https://steamcommunity.com/dev/apiterms). Details on choices made are stated in the report.\n",
    "\n",
    "This is intended to be finalized in a python package at a later stage.\n",
    "\n",
    "\n",
    "### Plan\n",
    "- Data import and processing e.g. balancing dataset\n",
    "- Model evaluation (GTA V reviews)\n",
    "- Majority voting\n",
    "- Model selection and final training\n",
    "- Model validation (Wolcen reviews)\n",
    "- Visualization of the predictions over the time axis\n",
    "\n",
    "### Algorithms\n",
    "- Baseline classifier (dummy classifier)\n",
    "- Multinomial Naive Bayes\n",
    "- SVM (Linear)\n",
    "- Logistic Regression\n",
    "- KNN\n",
    "- Random Subspaces (SVM)\n",
    "\n",
    "### Preprocessing\n",
    "- Unigrams with Term Frequency"
   ]
  },
  {
   "cell_type": "markdown",
   "metadata": {},
   "source": [
    "## Table of Content\n",
    "0. Imports\n",
    "1. Data Ingestion\n",
    "2. Helper Functions\n",
    "3. Model Evaluation \n",
    "    1. Dummy Classifier\n",
    "    2. Multinomial Naive Bayes\n",
    "    3. SGD - Linear SVM\n",
    "    4. Logistic Regression\n",
    "    5. KNN\n",
    "    6. Random Subspaces (SVM)\n",
    "4. Majority Voting\n",
    "5. Validation of Final Model\n",
    "6. Visualization"
   ]
  },
  {
   "cell_type": "markdown",
   "metadata": {},
   "source": [
    "## 0. Imports"
   ]
  },
  {
   "cell_type": "code",
   "execution_count": 1,
   "metadata": {},
   "outputs": [],
   "source": [
    "# Basics\n",
    "import numpy as np\n",
    "import pandas as pd\n",
    "from datetime import datetime\n",
    "\n",
    "# Helpers\n",
    "from sklearn.feature_extraction.text import CountVectorizer\n",
    "from sklearn.model_selection import train_test_split\n",
    "\n",
    "# Models\n",
    "from sklearn.dummy import DummyClassifier\n",
    "from sklearn.naive_bayes import MultinomialNB\n",
    "from sklearn.svm import LinearSVC\n",
    "from sklearn.ensemble import BaggingClassifier\n",
    "from sklearn.svm import SVC\n",
    "from sklearn.linear_model import SGDClassifier\n",
    "from sklearn.linear_model import LogisticRegression\n",
    "from sklearn.neighbors import KNeighborsClassifier\n",
    "\n",
    "# Evaluation\n",
    "from sklearn.metrics import confusion_matrix\n",
    "from sklearn.metrics import classification_report\n",
    "\n",
    "# Visualization\n",
    "from bokeh.plotting import figure\n",
    "from bokeh.io import output_notebook, show, output_file\n",
    "from bokeh.models import ColumnDataSource, HoverTool, Panel\n",
    "from bokeh.models.widgets import Tabs\n",
    "from bokeh.models import DatetimeTickFormatter\n",
    "%matplotlib inline"
   ]
  },
  {
   "cell_type": "markdown",
   "metadata": {},
   "source": [
    "## 1. Data Ingestion"
   ]
  },
  {
   "cell_type": "code",
   "execution_count": 45,
   "metadata": {},
   "outputs": [
    {
     "name": "stdout",
     "output_type": "stream",
     "text": [
      "<class 'pandas.core.frame.DataFrame'>\n",
      "RangeIndex: 274865 entries, 0 to 274864\n",
      "Data columns (total 18 columns):\n",
      " #   Column                       Non-Null Count   Dtype         \n",
      "---  ------                       --------------   -----         \n",
      " 0   language                     274865 non-null  string        \n",
      " 1   review                       274865 non-null  string        \n",
      " 2   timestamp_created            274865 non-null  datetime64[ns]\n",
      " 3   timestamp_updated            274865 non-null  datetime64[ns]\n",
      " 4   voted_up                     274865 non-null  boolean       \n",
      " 5   votes_up                     274865 non-null  Int64         \n",
      " 6   votes_funny                  274865 non-null  Int64         \n",
      " 7   weighted_vote_score          274865 non-null  float32       \n",
      " 8   comment_count                274865 non-null  Int64         \n",
      " 9   steam_purchase               274865 non-null  boolean       \n",
      " 10  received_for_free            274865 non-null  boolean       \n",
      " 11  written_during_early_access  274865 non-null  boolean       \n",
      " 12  num_games_owned              274865 non-null  Int64         \n",
      " 13  num_reviews                  274865 non-null  Int64         \n",
      " 14  playtime_forever             274865 non-null  Int64         \n",
      " 15  playtime_last_two_weeks      274865 non-null  Int64         \n",
      " 16  playtime_at_review           274865 non-null  Int64         \n",
      " 17  last_played                  274865 non-null  datetime64[ns]\n",
      "dtypes: Int64(8), boolean(4), datetime64[ns](3), float32(1), string(2)\n",
      "memory usage: 32.5 MB\n"
     ]
    }
   ],
   "source": [
    "# Import data\n",
    "df = pd.read_parquet('D:\\\\data\\\\test_train\\\\review_merged.parquet')\n",
    "df.info()"
   ]
  },
  {
   "cell_type": "code",
   "execution_count": 3,
   "metadata": {},
   "outputs": [
    {
     "data": {
      "text/plain": [
       "1    205874\n",
       "0     68991\n",
       "Name: voted_up, dtype: int64"
      ]
     },
     "execution_count": 3,
     "metadata": {},
     "output_type": "execute_result"
    }
   ],
   "source": [
    "# Convert from boolean to int and check dataset balance\n",
    "df['voted_up'] = df['voted_up'].astype('int64')\n",
    "df['voted_up'].value_counts()"
   ]
  },
  {
   "cell_type": "code",
   "execution_count": 4,
   "metadata": {},
   "outputs": [],
   "source": [
    "# Balance Dataset\n",
    "# Divide dataframe into positive and negative\n",
    "df_pos = df[df['voted_up'] == 0]\n",
    "df_neg = df[df['voted_up'] == 1]\n",
    "\n",
    "# Under-sample larger dataframe\n",
    "if len(df_pos.index) == len(df_neg.index):\n",
    "    # Dataset is balanced\n",
    "    pass\n",
    "elif len(df_pos.index) > len(df_neg.index):\n",
    "    # Positive has higher count, under-sample positive and then merge again\n",
    "    df_pos = df_pos.sample(len(df_neg.index))\n",
    "    df = pd.concat([df_pos, df_neg], axis=0)\n",
    "else:\n",
    "    # Negative has higher count, under-sample negative and then merge again\n",
    "    df_neg = df_neg.sample(len(df_pos.index))\n",
    "    df = pd.concat([df_pos, df_neg], axis=0)"
   ]
  },
  {
   "cell_type": "code",
   "execution_count": 5,
   "metadata": {},
   "outputs": [
    {
     "data": {
      "text/plain": [
       "1    68991\n",
       "0    68991\n",
       "Name: voted_up, dtype: int64"
      ]
     },
     "execution_count": 5,
     "metadata": {},
     "output_type": "execute_result"
    }
   ],
   "source": [
    "# Verify that data is now balanced\n",
    "df['voted_up'].value_counts()"
   ]
  },
  {
   "cell_type": "code",
   "execution_count": 6,
   "metadata": {},
   "outputs": [],
   "source": [
    "# Test train split\n",
    "X_train, X_test, y_train, y_test = train_test_split(df['review'], df['voted_up'], test_size=0.3, random_state=42)"
   ]
  },
  {
   "cell_type": "code",
   "execution_count": 7,
   "metadata": {},
   "outputs": [],
   "source": [
    "# Create count vector from train data, using TF if binary=False and TP if binary=True\n",
    "vectorizer = CountVectorizer(stop_words='english', binary=False)\n",
    "X = vectorizer.fit_transform(X_train)\n",
    "Y = vectorizer.transform(X_test)"
   ]
  },
  {
   "cell_type": "markdown",
   "metadata": {},
   "source": [
    "## 2. Helper Functions"
   ]
  },
  {
   "cell_type": "code",
   "execution_count": 8,
   "metadata": {},
   "outputs": [],
   "source": [
    "def evaluate(y_true, y_predicted):\n",
    "    \"\"\"Prints evaluation metrics from the predicted classification.\n",
    "\n",
    "    Using Scikit-learn functions with y_true and y_predicted to calculate metrics. \n",
    "    These are then printed into an easily read format.\n",
    "\n",
    "    Args:\n",
    "        y_true: The true y labels.\n",
    "        y_predicted: The predicted y labels\n",
    "\n",
    "    Returns:\n",
    "        N/A\n",
    "\n",
    "    Raises:\n",
    "        N/A\n",
    "    \"\"\"\n",
    "        \n",
    "    conf_mat = confusion_matrix(y_true, y_predicted)\n",
    "    \n",
    "    print(\"======== CONFUSION MATRIX ========\")\n",
    "    print(\"\\t0\\t1\")\n",
    "    print(f\"0\\t{conf_mat[0][0]}\\t{conf_mat[0][1]}\")\n",
    "    print(f\"1\\t{conf_mat[1][0]}\\t{conf_mat[1][1]}\")\n",
    "    print('\\n')\n",
    "    \n",
    "    print(\"======== CLASSIFICATION REPORT ========\")\n",
    "    print(classification_report(y_true, y_predicted))\n",
    "    print('\\n')"
   ]
  },
  {
   "cell_type": "markdown",
   "metadata": {},
   "source": [
    "## 3. Model Evaluation "
   ]
  },
  {
   "cell_type": "markdown",
   "metadata": {},
   "source": [
    "### 3.A. Dummy Classifier\n",
    "https://scikit-learn.org/stable/modules/generated/sklearn.dummy.DummyClassifier.html"
   ]
  },
  {
   "cell_type": "code",
   "execution_count": 9,
   "metadata": {},
   "outputs": [],
   "source": [
    "dummy_clf = DummyClassifier(strategy=\"stratified\")\n",
    "\n",
    "# Train\n",
    "dummy_clf.fit(X, y_train)\n",
    "\n",
    "# Predict\n",
    "y_dummy_train = dummy_clf.predict(X)\n",
    "y_dummy_test = dummy_clf.predict(Y)"
   ]
  },
  {
   "cell_type": "code",
   "execution_count": 10,
   "metadata": {},
   "outputs": [
    {
     "name": "stdout",
     "output_type": "stream",
     "text": [
      "======== CONFUSION MATRIX ========\n",
      "\t0\t1\n",
      "0\t23859\t24328\n",
      "1\t24170\t24230\n",
      "\n",
      "\n",
      "======== CLASSIFICATION REPORT ========\n",
      "              precision    recall  f1-score   support\n",
      "\n",
      "           0       0.50      0.50      0.50     48187\n",
      "           1       0.50      0.50      0.50     48400\n",
      "\n",
      "    accuracy                           0.50     96587\n",
      "   macro avg       0.50      0.50      0.50     96587\n",
      "weighted avg       0.50      0.50      0.50     96587\n",
      "\n",
      "\n",
      "\n"
     ]
    }
   ],
   "source": [
    "evaluate(y_train, y_dummy_train)"
   ]
  },
  {
   "cell_type": "code",
   "execution_count": 11,
   "metadata": {},
   "outputs": [
    {
     "name": "stdout",
     "output_type": "stream",
     "text": [
      "======== CONFUSION MATRIX ========\n",
      "\t0\t1\n",
      "0\t10389\t10415\n",
      "1\t10218\t10373\n",
      "\n",
      "\n",
      "======== CLASSIFICATION REPORT ========\n",
      "              precision    recall  f1-score   support\n",
      "\n",
      "           0       0.50      0.50      0.50     20804\n",
      "           1       0.50      0.50      0.50     20591\n",
      "\n",
      "    accuracy                           0.50     41395\n",
      "   macro avg       0.50      0.50      0.50     41395\n",
      "weighted avg       0.50      0.50      0.50     41395\n",
      "\n",
      "\n",
      "\n"
     ]
    }
   ],
   "source": [
    "evaluate(y_test, y_dummy_test)"
   ]
  },
  {
   "cell_type": "markdown",
   "metadata": {},
   "source": [
    "### 3.B. Multinomial Naive Bayes\n",
    "https://scikit-learn.org/stable/modules/generated/sklearn.naive_bayes.MultinomialNB.html"
   ]
  },
  {
   "cell_type": "code",
   "execution_count": 12,
   "metadata": {},
   "outputs": [
    {
     "data": {
      "text/plain": [
       "MultinomialNB()"
      ]
     },
     "execution_count": 12,
     "metadata": {},
     "output_type": "execute_result"
    }
   ],
   "source": [
    "# Train\n",
    "clf = MultinomialNB()\n",
    "clf.fit(X, y_train)"
   ]
  },
  {
   "cell_type": "code",
   "execution_count": 13,
   "metadata": {},
   "outputs": [],
   "source": [
    "# Predict\n",
    "y_pred_train = clf.predict(X)\n",
    "y_pred_test = clf.predict(Y)"
   ]
  },
  {
   "cell_type": "code",
   "execution_count": 14,
   "metadata": {},
   "outputs": [
    {
     "name": "stdout",
     "output_type": "stream",
     "text": [
      "======== CONFUSION MATRIX ========\n",
      "\t0\t1\n",
      "0\t41890\t6297\n",
      "1\t5473\t42927\n",
      "\n",
      "\n",
      "======== CLASSIFICATION REPORT ========\n",
      "              precision    recall  f1-score   support\n",
      "\n",
      "           0       0.88      0.87      0.88     48187\n",
      "           1       0.87      0.89      0.88     48400\n",
      "\n",
      "    accuracy                           0.88     96587\n",
      "   macro avg       0.88      0.88      0.88     96587\n",
      "weighted avg       0.88      0.88      0.88     96587\n",
      "\n",
      "\n",
      "\n"
     ]
    }
   ],
   "source": [
    "evaluate(y_train, y_pred_train)"
   ]
  },
  {
   "cell_type": "code",
   "execution_count": 15,
   "metadata": {
    "scrolled": true
   },
   "outputs": [
    {
     "name": "stdout",
     "output_type": "stream",
     "text": [
      "======== CONFUSION MATRIX ========\n",
      "\t0\t1\n",
      "0\t17971\t2833\n",
      "1\t2731\t17860\n",
      "\n",
      "\n",
      "======== CLASSIFICATION REPORT ========\n",
      "              precision    recall  f1-score   support\n",
      "\n",
      "           0       0.87      0.86      0.87     20804\n",
      "           1       0.86      0.87      0.87     20591\n",
      "\n",
      "    accuracy                           0.87     41395\n",
      "   macro avg       0.87      0.87      0.87     41395\n",
      "weighted avg       0.87      0.87      0.87     41395\n",
      "\n",
      "\n",
      "\n"
     ]
    }
   ],
   "source": [
    "evaluate(y_test, y_pred_test)"
   ]
  },
  {
   "cell_type": "markdown",
   "metadata": {},
   "source": [
    "### 3.C. SGD - Linear SVM\n",
    "https://scikit-learn.org/stable/modules/generated/sklearn.linear_model.SGDClassifier.html#sklearn.linear_model.SGDClassifier"
   ]
  },
  {
   "cell_type": "code",
   "execution_count": 16,
   "metadata": {},
   "outputs": [
    {
     "data": {
      "text/plain": [
       "SGDClassifier(tol=0.0001)"
      ]
     },
     "execution_count": 16,
     "metadata": {},
     "output_type": "execute_result"
    }
   ],
   "source": [
    "# Train\n",
    "clf_sgd = SGDClassifier(max_iter=1000, tol=1e-4)\n",
    "clf_sgd.fit(X, y_train)"
   ]
  },
  {
   "cell_type": "code",
   "execution_count": 17,
   "metadata": {},
   "outputs": [],
   "source": [
    "# Predict\n",
    "y_pred_train_sgd = clf_sgd.predict(X)\n",
    "y_pred_test_sgd = clf_sgd.predict(Y)"
   ]
  },
  {
   "cell_type": "code",
   "execution_count": 18,
   "metadata": {},
   "outputs": [
    {
     "name": "stdout",
     "output_type": "stream",
     "text": [
      "======== CONFUSION MATRIX ========\n",
      "\t0\t1\n",
      "0\t40718\t7469\n",
      "1\t3570\t44830\n",
      "\n",
      "\n",
      "======== CLASSIFICATION REPORT ========\n",
      "              precision    recall  f1-score   support\n",
      "\n",
      "           0       0.92      0.84      0.88     48187\n",
      "           1       0.86      0.93      0.89     48400\n",
      "\n",
      "    accuracy                           0.89     96587\n",
      "   macro avg       0.89      0.89      0.89     96587\n",
      "weighted avg       0.89      0.89      0.89     96587\n",
      "\n",
      "\n",
      "\n"
     ]
    }
   ],
   "source": [
    "evaluate(y_train, y_pred_train_sgd)"
   ]
  },
  {
   "cell_type": "code",
   "execution_count": 19,
   "metadata": {
    "scrolled": false
   },
   "outputs": [
    {
     "name": "stdout",
     "output_type": "stream",
     "text": [
      "======== CONFUSION MATRIX ========\n",
      "\t0\t1\n",
      "0\t16986\t3818\n",
      "1\t1869\t18722\n",
      "\n",
      "\n",
      "======== CLASSIFICATION REPORT ========\n",
      "              precision    recall  f1-score   support\n",
      "\n",
      "           0       0.90      0.82      0.86     20804\n",
      "           1       0.83      0.91      0.87     20591\n",
      "\n",
      "    accuracy                           0.86     41395\n",
      "   macro avg       0.87      0.86      0.86     41395\n",
      "weighted avg       0.87      0.86      0.86     41395\n",
      "\n",
      "\n",
      "\n"
     ]
    }
   ],
   "source": [
    "evaluate(y_test, y_pred_test_sgd)"
   ]
  },
  {
   "cell_type": "markdown",
   "metadata": {},
   "source": [
    "### 3.D. Logistic Regression\n",
    "https://scikit-learn.org/stable/modules/generated/sklearn.linear_model.LogisticRegression.html"
   ]
  },
  {
   "cell_type": "code",
   "execution_count": 20,
   "metadata": {},
   "outputs": [
    {
     "data": {
      "text/plain": [
       "LogisticRegression(max_iter=1000)"
      ]
     },
     "execution_count": 20,
     "metadata": {},
     "output_type": "execute_result"
    }
   ],
   "source": [
    "# Train\n",
    "clf_lr = LogisticRegression(solver='lbfgs', multi_class='auto', max_iter=1000)\n",
    "clf_lr.fit(X, y_train)"
   ]
  },
  {
   "cell_type": "code",
   "execution_count": 21,
   "metadata": {},
   "outputs": [],
   "source": [
    "# Predict\n",
    "y_pred_train_lr = clf_lr.predict(X)\n",
    "y_pred_test_lr = clf_lr.predict(Y)"
   ]
  },
  {
   "cell_type": "code",
   "execution_count": 22,
   "metadata": {},
   "outputs": [
    {
     "name": "stdout",
     "output_type": "stream",
     "text": [
      "======== CONFUSION MATRIX ========\n",
      "\t0\t1\n",
      "0\t42150\t6037\n",
      "1\t3146\t45254\n",
      "\n",
      "\n",
      "======== CLASSIFICATION REPORT ========\n",
      "              precision    recall  f1-score   support\n",
      "\n",
      "           0       0.93      0.87      0.90     48187\n",
      "           1       0.88      0.94      0.91     48400\n",
      "\n",
      "    accuracy                           0.90     96587\n",
      "   macro avg       0.91      0.90      0.90     96587\n",
      "weighted avg       0.91      0.90      0.90     96587\n",
      "\n",
      "\n",
      "\n"
     ]
    }
   ],
   "source": [
    "evaluate(y_train, y_pred_train_lr)"
   ]
  },
  {
   "cell_type": "code",
   "execution_count": 23,
   "metadata": {
    "scrolled": true
   },
   "outputs": [
    {
     "name": "stdout",
     "output_type": "stream",
     "text": [
      "======== CONFUSION MATRIX ========\n",
      "\t0\t1\n",
      "0\t17109\t3695\n",
      "1\t1968\t18623\n",
      "\n",
      "\n",
      "======== CLASSIFICATION REPORT ========\n",
      "              precision    recall  f1-score   support\n",
      "\n",
      "           0       0.90      0.82      0.86     20804\n",
      "           1       0.83      0.90      0.87     20591\n",
      "\n",
      "    accuracy                           0.86     41395\n",
      "   macro avg       0.87      0.86      0.86     41395\n",
      "weighted avg       0.87      0.86      0.86     41395\n",
      "\n",
      "\n",
      "\n"
     ]
    }
   ],
   "source": [
    "evaluate(y_test, y_pred_test_lr)"
   ]
  },
  {
   "cell_type": "markdown",
   "metadata": {},
   "source": [
    "### 3.E. KNN\n",
    "https://scikit-learn.org/stable/modules/generated/sklearn.neighbors.KNeighborsClassifier.html#sklearn.neighbors.KNeighborsClassifier"
   ]
  },
  {
   "cell_type": "code",
   "execution_count": 24,
   "metadata": {},
   "outputs": [
    {
     "data": {
      "text/plain": [
       "KNeighborsClassifier()"
      ]
     },
     "execution_count": 24,
     "metadata": {},
     "output_type": "execute_result"
    }
   ],
   "source": [
    "# Train\n",
    "clf_knn = KNeighborsClassifier()\n",
    "clf_knn.fit(X, y_train)"
   ]
  },
  {
   "cell_type": "code",
   "execution_count": 25,
   "metadata": {},
   "outputs": [],
   "source": [
    "# Predict\n",
    "y_pred_train_knn = clf_knn.predict(X)\n",
    "y_pred_test_knn = clf_knn.predict(Y)"
   ]
  },
  {
   "cell_type": "code",
   "execution_count": 26,
   "metadata": {},
   "outputs": [
    {
     "name": "stdout",
     "output_type": "stream",
     "text": [
      "======== CONFUSION MATRIX ========\n",
      "\t0\t1\n",
      "0\t35932\t12255\n",
      "1\t5945\t42455\n",
      "\n",
      "\n",
      "======== CLASSIFICATION REPORT ========\n",
      "              precision    recall  f1-score   support\n",
      "\n",
      "           0       0.86      0.75      0.80     48187\n",
      "           1       0.78      0.88      0.82     48400\n",
      "\n",
      "    accuracy                           0.81     96587\n",
      "   macro avg       0.82      0.81      0.81     96587\n",
      "weighted avg       0.82      0.81      0.81     96587\n",
      "\n",
      "\n",
      "\n"
     ]
    }
   ],
   "source": [
    "evaluate(y_train, y_pred_train_knn)"
   ]
  },
  {
   "cell_type": "code",
   "execution_count": 27,
   "metadata": {
    "scrolled": true
   },
   "outputs": [
    {
     "name": "stdout",
     "output_type": "stream",
     "text": [
      "======== CONFUSION MATRIX ========\n",
      "\t0\t1\n",
      "0\t14172\t6632\n",
      "1\t3809\t16782\n",
      "\n",
      "\n",
      "======== CLASSIFICATION REPORT ========\n",
      "              precision    recall  f1-score   support\n",
      "\n",
      "           0       0.79      0.68      0.73     20804\n",
      "           1       0.72      0.82      0.76     20591\n",
      "\n",
      "    accuracy                           0.75     41395\n",
      "   macro avg       0.75      0.75      0.75     41395\n",
      "weighted avg       0.75      0.75      0.75     41395\n",
      "\n",
      "\n",
      "\n"
     ]
    }
   ],
   "source": [
    "evaluate(y_test, y_pred_test_knn)"
   ]
  },
  {
   "cell_type": "markdown",
   "metadata": {},
   "source": [
    "### 3.F. Random Subspaces (SVM)\n",
    "\n",
    "https://scikit-learn.org/stable/modules/generated/sklearn.ensemble.BaggingClassifier.html#sklearn.ensemble.BaggingClassifier\n",
    "\n",
    "Very complex for large feature and large samples O(n_features * n_samles^3)"
   ]
  },
  {
   "cell_type": "code",
   "execution_count": 25,
   "metadata": {},
   "outputs": [
    {
     "data": {
      "text/plain": [
       "BaggingClassifier(base_estimator=SVC(), bootstrap_features=True, n_estimators=2,\n",
       "                  n_jobs=4, random_state=422)"
      ]
     },
     "execution_count": 25,
     "metadata": {},
     "output_type": "execute_result"
    }
   ],
   "source": [
    "# Train\n",
    "clf_rs = BaggingClassifier(base_estimator=SVC(), n_estimators=2, random_state=422, bootstrap_features=True, n_jobs=4)\n",
    "clf_rs.fit(X, y_train)"
   ]
  },
  {
   "cell_type": "code",
   "execution_count": 26,
   "metadata": {},
   "outputs": [],
   "source": [
    "# Predict\n",
    "y_pred_train_3 = clf_rs.predict(X)\n",
    "y_pred_test_3 = clf_rs.predict(Y)"
   ]
  },
  {
   "cell_type": "code",
   "execution_count": 135,
   "metadata": {},
   "outputs": [
    {
     "name": "stdout",
     "output_type": "stream",
     "text": [
      "======== CONFUSION MATRIX ========\n",
      "\t0\t1\n",
      "0\t40464\t7723\n",
      "1\t5856\t42544\n",
      "\n",
      "\n",
      "======== CLASSIFICATION REPORT ========\n",
      "              precision    recall  f1-score   support\n",
      "\n",
      "           0       0.87      0.84      0.86     48187\n",
      "           1       0.85      0.88      0.86     48400\n",
      "\n",
      "    accuracy                           0.86     96587\n",
      "   macro avg       0.86      0.86      0.86     96587\n",
      "weighted avg       0.86      0.86      0.86     96587\n",
      "\n",
      "\n",
      "\n"
     ]
    }
   ],
   "source": [
    "evaluate(y_train, y_pred_train_3)"
   ]
  },
  {
   "cell_type": "code",
   "execution_count": 136,
   "metadata": {
    "scrolled": true
   },
   "outputs": [
    {
     "name": "stdout",
     "output_type": "stream",
     "text": [
      "======== CONFUSION MATRIX ========\n",
      "\t0\t1\n",
      "0\t17216\t3588\n",
      "1\t2976\t17615\n",
      "\n",
      "\n",
      "======== CLASSIFICATION REPORT ========\n",
      "              precision    recall  f1-score   support\n",
      "\n",
      "           0       0.85      0.83      0.84     20804\n",
      "           1       0.83      0.86      0.84     20591\n",
      "\n",
      "    accuracy                           0.84     41395\n",
      "   macro avg       0.84      0.84      0.84     41395\n",
      "weighted avg       0.84      0.84      0.84     41395\n",
      "\n",
      "\n",
      "\n"
     ]
    }
   ],
   "source": [
    "evaluate(y_test, y_pred_test_3)"
   ]
  },
  {
   "cell_type": "markdown",
   "metadata": {},
   "source": [
    "## 4. Majority Voting"
   ]
  },
  {
   "cell_type": "code",
   "execution_count": 28,
   "metadata": {},
   "outputs": [],
   "source": [
    "# MultNB, Linear SVM, KNN\n",
    "voting_test = y_pred_test + y_pred_test_sgd + y_pred_test_knn"
   ]
  },
  {
   "cell_type": "code",
   "execution_count": 29,
   "metadata": {},
   "outputs": [],
   "source": [
    "voting_test[voting_test <= 1] = 0\n",
    "voting_test[voting_test >= 2] = 1"
   ]
  },
  {
   "cell_type": "code",
   "execution_count": 30,
   "metadata": {},
   "outputs": [
    {
     "name": "stdout",
     "output_type": "stream",
     "text": [
      "======== CONFUSION MATRIX ========\n",
      "\t0\t1\n",
      "0\t17322\t3482\n",
      "1\t1919\t18672\n",
      "\n",
      "\n",
      "======== CLASSIFICATION REPORT ========\n",
      "              precision    recall  f1-score   support\n",
      "\n",
      "           0       0.90      0.83      0.87     20804\n",
      "           1       0.84      0.91      0.87     20591\n",
      "\n",
      "    accuracy                           0.87     41395\n",
      "   macro avg       0.87      0.87      0.87     41395\n",
      "weighted avg       0.87      0.87      0.87     41395\n",
      "\n",
      "\n",
      "\n"
     ]
    }
   ],
   "source": [
    "evaluate(y_test, voting_test)"
   ]
  },
  {
   "cell_type": "markdown",
   "metadata": {},
   "source": [
    "## 5. Validation of Final Model"
   ]
  },
  {
   "cell_type": "code",
   "execution_count": 31,
   "metadata": {},
   "outputs": [],
   "source": [
    "dv = pd.read_parquet('D:\\\\data\\\\validation\\\\review_merged.parquet')\n",
    "dv['voted_up'] = dv['voted_up'].astype('int64')"
   ]
  },
  {
   "cell_type": "code",
   "execution_count": 32,
   "metadata": {},
   "outputs": [
    {
     "data": {
      "text/plain": [
       "LogisticRegression(max_iter=1000)"
      ]
     },
     "execution_count": 32,
     "metadata": {},
     "output_type": "execute_result"
    }
   ],
   "source": [
    "# Use complete training corpus for training validation model\n",
    "vectorizer_val = CountVectorizer(stop_words='english', binary=False)\n",
    "X_train_val = vectorizer_val.fit_transform(df['review'])\n",
    "y_train_val = df['voted_up']\n",
    "\n",
    "clf_NB_val = MultinomialNB()\n",
    "clf_NB_val.fit(X_train_val, y_train_val)\n",
    "\n",
    "clf_sgd_val = SGDClassifier(max_iter=1000, tol=1e-4)\n",
    "clf_sgd_val.fit(X_train_val, y_train_val)\n",
    "\n",
    "clf_lr_val = LogisticRegression(solver='lbfgs', multi_class='auto', max_iter=1000)\n",
    "clf_lr_val.fit(X_train_val, y_train_val)"
   ]
  },
  {
   "cell_type": "code",
   "execution_count": 33,
   "metadata": {},
   "outputs": [],
   "source": [
    "V = vectorizer_val.transform(dv['review'])\n",
    "NB_eval = clf_NB_val.predict(V)\n",
    "SVM_eval = clf_sgd_val.predict(V)\n",
    "LR_eval = clf_lr_val.predict(V)"
   ]
  },
  {
   "cell_type": "code",
   "execution_count": 34,
   "metadata": {},
   "outputs": [
    {
     "name": "stdout",
     "output_type": "stream",
     "text": [
      "======== CONFUSION MATRIX ========\n",
      "\t0\t1\n",
      "0\t8957\t1710\n",
      "1\t3388\t10278\n",
      "\n",
      "\n",
      "======== CLASSIFICATION REPORT ========\n",
      "              precision    recall  f1-score   support\n",
      "\n",
      "           0       0.73      0.84      0.78     10667\n",
      "           1       0.86      0.75      0.80     13666\n",
      "\n",
      "    accuracy                           0.79     24333\n",
      "   macro avg       0.79      0.80      0.79     24333\n",
      "weighted avg       0.80      0.79      0.79     24333\n",
      "\n",
      "\n",
      "\n"
     ]
    }
   ],
   "source": [
    "evaluate(dv['voted_up'], NB_eval)"
   ]
  },
  {
   "cell_type": "code",
   "execution_count": 35,
   "metadata": {},
   "outputs": [
    {
     "name": "stdout",
     "output_type": "stream",
     "text": [
      "======== CONFUSION MATRIX ========\n",
      "\t0\t1\n",
      "0\t7917\t2750\n",
      "1\t1611\t12055\n",
      "\n",
      "\n",
      "======== CLASSIFICATION REPORT ========\n",
      "              precision    recall  f1-score   support\n",
      "\n",
      "           0       0.83      0.74      0.78     10667\n",
      "           1       0.81      0.88      0.85     13666\n",
      "\n",
      "    accuracy                           0.82     24333\n",
      "   macro avg       0.82      0.81      0.82     24333\n",
      "weighted avg       0.82      0.82      0.82     24333\n",
      "\n",
      "\n",
      "\n"
     ]
    }
   ],
   "source": [
    "evaluate(dv['voted_up'], SVM_eval)"
   ]
  },
  {
   "cell_type": "code",
   "execution_count": 36,
   "metadata": {},
   "outputs": [
    {
     "name": "stdout",
     "output_type": "stream",
     "text": [
      "======== CONFUSION MATRIX ========\n",
      "\t0\t1\n",
      "0\t8386\t2281\n",
      "1\t2248\t11418\n",
      "\n",
      "\n",
      "======== CLASSIFICATION REPORT ========\n",
      "              precision    recall  f1-score   support\n",
      "\n",
      "           0       0.79      0.79      0.79     10667\n",
      "           1       0.83      0.84      0.83     13666\n",
      "\n",
      "    accuracy                           0.81     24333\n",
      "   macro avg       0.81      0.81      0.81     24333\n",
      "weighted avg       0.81      0.81      0.81     24333\n",
      "\n",
      "\n",
      "\n"
     ]
    }
   ],
   "source": [
    "evaluate(dv['voted_up'], LR_eval)"
   ]
  },
  {
   "cell_type": "code",
   "execution_count": 37,
   "metadata": {},
   "outputs": [
    {
     "name": "stdout",
     "output_type": "stream",
     "text": [
      "======== CONFUSION MATRIX ========\n",
      "\t0\t1\n",
      "0\t8356\t2311\n",
      "1\t1969\t11697\n",
      "\n",
      "\n",
      "======== CLASSIFICATION REPORT ========\n",
      "              precision    recall  f1-score   support\n",
      "\n",
      "           0       0.81      0.78      0.80     10667\n",
      "           1       0.84      0.86      0.85     13666\n",
      "\n",
      "    accuracy                           0.82     24333\n",
      "   macro avg       0.82      0.82      0.82     24333\n",
      "weighted avg       0.82      0.82      0.82     24333\n",
      "\n",
      "\n",
      "\n"
     ]
    }
   ],
   "source": [
    "majority_vote = NB_eval + SVM_eval + LR_eval\n",
    "majority_vote[majority_vote <= 1] = 0\n",
    "majority_vote[majority_vote >= 2] = 1\n",
    "evaluate(dv['voted_up'], majority_vote)"
   ]
  },
  {
   "cell_type": "markdown",
   "metadata": {},
   "source": [
    "## 6. Visualization\n",
    "Inspiration: https://towardsdatascience.com/interactive-histograms-with-bokeh-202b522265f3"
   ]
  },
  {
   "cell_type": "code",
   "execution_count": 38,
   "metadata": {},
   "outputs": [],
   "source": [
    "df_viz = dv\n",
    "df_viz['predicted'] = majority_vote"
   ]
  },
  {
   "cell_type": "code",
   "execution_count": 39,
   "metadata": {},
   "outputs": [
    {
     "name": "stdout",
     "output_type": "stream",
     "text": [
      "<class 'pandas.core.frame.DataFrame'>\n",
      "RangeIndex: 24333 entries, 0 to 24332\n",
      "Data columns (total 19 columns):\n",
      " #   Column                       Non-Null Count  Dtype         \n",
      "---  ------                       --------------  -----         \n",
      " 0   language                     24333 non-null  string        \n",
      " 1   review                       24333 non-null  string        \n",
      " 2   timestamp_created            24333 non-null  datetime64[ns]\n",
      " 3   timestamp_updated            24333 non-null  datetime64[ns]\n",
      " 4   voted_up                     24333 non-null  int64         \n",
      " 5   votes_up                     24333 non-null  Int64         \n",
      " 6   votes_funny                  24333 non-null  Int64         \n",
      " 7   weighted_vote_score          24333 non-null  float32       \n",
      " 8   comment_count                24333 non-null  Int64         \n",
      " 9   steam_purchase               24333 non-null  boolean       \n",
      " 10  received_for_free            24333 non-null  boolean       \n",
      " 11  written_during_early_access  24333 non-null  boolean       \n",
      " 12  num_games_owned              24333 non-null  Int64         \n",
      " 13  num_reviews                  24333 non-null  Int64         \n",
      " 14  playtime_forever             24333 non-null  Int64         \n",
      " 15  playtime_last_two_weeks      24333 non-null  Int64         \n",
      " 16  playtime_at_review           24333 non-null  Int64         \n",
      " 17  last_played                  24333 non-null  datetime64[ns]\n",
      " 18  predicted                    24333 non-null  int64         \n",
      "dtypes: Int64(8), boolean(3), datetime64[ns](3), float32(1), int64(2), string(2)\n",
      "memory usage: 3.2 MB\n"
     ]
    }
   ],
   "source": [
    "df_viz.info()"
   ]
  },
  {
   "cell_type": "code",
   "execution_count": 40,
   "metadata": {},
   "outputs": [],
   "source": [
    "df_viz_pos = df_viz[df_viz[\"predicted\"] == 1]\n",
    "df_viz_neg = df_viz[df_viz[\"predicted\"] == 0]"
   ]
  },
  {
   "cell_type": "code",
   "execution_count": 41,
   "metadata": {},
   "outputs": [
    {
     "data": {
      "text/html": [
       "\n",
       "    <div class=\"bk-root\">\n",
       "        <a href=\"https://bokeh.org\" target=\"_blank\" class=\"bk-logo bk-logo-small bk-logo-notebook\"></a>\n",
       "        <span id=\"1001\">Loading BokehJS ...</span>\n",
       "    </div>"
      ]
     },
     "metadata": {},
     "output_type": "display_data"
    },
    {
     "data": {
      "application/javascript": [
       "\n",
       "(function(root) {\n",
       "  function now() {\n",
       "    return new Date();\n",
       "  }\n",
       "\n",
       "  var force = true;\n",
       "\n",
       "  if (typeof root._bokeh_onload_callbacks === \"undefined\" || force === true) {\n",
       "    root._bokeh_onload_callbacks = [];\n",
       "    root._bokeh_is_loading = undefined;\n",
       "  }\n",
       "\n",
       "  var JS_MIME_TYPE = 'application/javascript';\n",
       "  var HTML_MIME_TYPE = 'text/html';\n",
       "  var EXEC_MIME_TYPE = 'application/vnd.bokehjs_exec.v0+json';\n",
       "  var CLASS_NAME = 'output_bokeh rendered_html';\n",
       "\n",
       "  /**\n",
       "   * Render data to the DOM node\n",
       "   */\n",
       "  function render(props, node) {\n",
       "    var script = document.createElement(\"script\");\n",
       "    node.appendChild(script);\n",
       "  }\n",
       "\n",
       "  /**\n",
       "   * Handle when an output is cleared or removed\n",
       "   */\n",
       "  function handleClearOutput(event, handle) {\n",
       "    var cell = handle.cell;\n",
       "\n",
       "    var id = cell.output_area._bokeh_element_id;\n",
       "    var server_id = cell.output_area._bokeh_server_id;\n",
       "    // Clean up Bokeh references\n",
       "    if (id != null && id in Bokeh.index) {\n",
       "      Bokeh.index[id].model.document.clear();\n",
       "      delete Bokeh.index[id];\n",
       "    }\n",
       "\n",
       "    if (server_id !== undefined) {\n",
       "      // Clean up Bokeh references\n",
       "      var cmd = \"from bokeh.io.state import curstate; print(curstate().uuid_to_server['\" + server_id + \"'].get_sessions()[0].document.roots[0]._id)\";\n",
       "      cell.notebook.kernel.execute(cmd, {\n",
       "        iopub: {\n",
       "          output: function(msg) {\n",
       "            var id = msg.content.text.trim();\n",
       "            if (id in Bokeh.index) {\n",
       "              Bokeh.index[id].model.document.clear();\n",
       "              delete Bokeh.index[id];\n",
       "            }\n",
       "          }\n",
       "        }\n",
       "      });\n",
       "      // Destroy server and session\n",
       "      var cmd = \"import bokeh.io.notebook as ion; ion.destroy_server('\" + server_id + \"')\";\n",
       "      cell.notebook.kernel.execute(cmd);\n",
       "    }\n",
       "  }\n",
       "\n",
       "  /**\n",
       "   * Handle when a new output is added\n",
       "   */\n",
       "  function handleAddOutput(event, handle) {\n",
       "    var output_area = handle.output_area;\n",
       "    var output = handle.output;\n",
       "\n",
       "    // limit handleAddOutput to display_data with EXEC_MIME_TYPE content only\n",
       "    if ((output.output_type != \"display_data\") || (!output.data.hasOwnProperty(EXEC_MIME_TYPE))) {\n",
       "      return\n",
       "    }\n",
       "\n",
       "    var toinsert = output_area.element.find(\".\" + CLASS_NAME.split(' ')[0]);\n",
       "\n",
       "    if (output.metadata[EXEC_MIME_TYPE][\"id\"] !== undefined) {\n",
       "      toinsert[toinsert.length - 1].firstChild.textContent = output.data[JS_MIME_TYPE];\n",
       "      // store reference to embed id on output_area\n",
       "      output_area._bokeh_element_id = output.metadata[EXEC_MIME_TYPE][\"id\"];\n",
       "    }\n",
       "    if (output.metadata[EXEC_MIME_TYPE][\"server_id\"] !== undefined) {\n",
       "      var bk_div = document.createElement(\"div\");\n",
       "      bk_div.innerHTML = output.data[HTML_MIME_TYPE];\n",
       "      var script_attrs = bk_div.children[0].attributes;\n",
       "      for (var i = 0; i < script_attrs.length; i++) {\n",
       "        toinsert[toinsert.length - 1].firstChild.setAttribute(script_attrs[i].name, script_attrs[i].value);\n",
       "        toinsert[toinsert.length - 1].firstChild.textContent = bk_div.children[0].textContent\n",
       "      }\n",
       "      // store reference to server id on output_area\n",
       "      output_area._bokeh_server_id = output.metadata[EXEC_MIME_TYPE][\"server_id\"];\n",
       "    }\n",
       "  }\n",
       "\n",
       "  function register_renderer(events, OutputArea) {\n",
       "\n",
       "    function append_mime(data, metadata, element) {\n",
       "      // create a DOM node to render to\n",
       "      var toinsert = this.create_output_subarea(\n",
       "        metadata,\n",
       "        CLASS_NAME,\n",
       "        EXEC_MIME_TYPE\n",
       "      );\n",
       "      this.keyboard_manager.register_events(toinsert);\n",
       "      // Render to node\n",
       "      var props = {data: data, metadata: metadata[EXEC_MIME_TYPE]};\n",
       "      render(props, toinsert[toinsert.length - 1]);\n",
       "      element.append(toinsert);\n",
       "      return toinsert\n",
       "    }\n",
       "\n",
       "    /* Handle when an output is cleared or removed */\n",
       "    events.on('clear_output.CodeCell', handleClearOutput);\n",
       "    events.on('delete.Cell', handleClearOutput);\n",
       "\n",
       "    /* Handle when a new output is added */\n",
       "    events.on('output_added.OutputArea', handleAddOutput);\n",
       "\n",
       "    /**\n",
       "     * Register the mime type and append_mime function with output_area\n",
       "     */\n",
       "    OutputArea.prototype.register_mime_type(EXEC_MIME_TYPE, append_mime, {\n",
       "      /* Is output safe? */\n",
       "      safe: true,\n",
       "      /* Index of renderer in `output_area.display_order` */\n",
       "      index: 0\n",
       "    });\n",
       "  }\n",
       "\n",
       "  // register the mime type if in Jupyter Notebook environment and previously unregistered\n",
       "  if (root.Jupyter !== undefined) {\n",
       "    var events = require('base/js/events');\n",
       "    var OutputArea = require('notebook/js/outputarea').OutputArea;\n",
       "\n",
       "    if (OutputArea.prototype.mime_types().indexOf(EXEC_MIME_TYPE) == -1) {\n",
       "      register_renderer(events, OutputArea);\n",
       "    }\n",
       "  }\n",
       "\n",
       "  \n",
       "  if (typeof (root._bokeh_timeout) === \"undefined\" || force === true) {\n",
       "    root._bokeh_timeout = Date.now() + 5000;\n",
       "    root._bokeh_failed_load = false;\n",
       "  }\n",
       "\n",
       "  var NB_LOAD_WARNING = {'data': {'text/html':\n",
       "     \"<div style='background-color: #fdd'>\\n\"+\n",
       "     \"<p>\\n\"+\n",
       "     \"BokehJS does not appear to have successfully loaded. If loading BokehJS from CDN, this \\n\"+\n",
       "     \"may be due to a slow or bad network connection. Possible fixes:\\n\"+\n",
       "     \"</p>\\n\"+\n",
       "     \"<ul>\\n\"+\n",
       "     \"<li>re-rerun `output_notebook()` to attempt to load from CDN again, or</li>\\n\"+\n",
       "     \"<li>use INLINE resources instead, as so:</li>\\n\"+\n",
       "     \"</ul>\\n\"+\n",
       "     \"<code>\\n\"+\n",
       "     \"from bokeh.resources import INLINE\\n\"+\n",
       "     \"output_notebook(resources=INLINE)\\n\"+\n",
       "     \"</code>\\n\"+\n",
       "     \"</div>\"}};\n",
       "\n",
       "  function display_loaded() {\n",
       "    var el = document.getElementById(\"1001\");\n",
       "    if (el != null) {\n",
       "      el.textContent = \"BokehJS is loading...\";\n",
       "    }\n",
       "    if (root.Bokeh !== undefined) {\n",
       "      if (el != null) {\n",
       "        el.textContent = \"BokehJS \" + root.Bokeh.version + \" successfully loaded.\";\n",
       "      }\n",
       "    } else if (Date.now() < root._bokeh_timeout) {\n",
       "      setTimeout(display_loaded, 100)\n",
       "    }\n",
       "  }\n",
       "\n",
       "\n",
       "  function run_callbacks() {\n",
       "    try {\n",
       "      root._bokeh_onload_callbacks.forEach(function(callback) {\n",
       "        if (callback != null)\n",
       "          callback();\n",
       "      });\n",
       "    } finally {\n",
       "      delete root._bokeh_onload_callbacks\n",
       "    }\n",
       "    console.debug(\"Bokeh: all callbacks have finished\");\n",
       "  }\n",
       "\n",
       "  function load_libs(css_urls, js_urls, callback) {\n",
       "    if (css_urls == null) css_urls = [];\n",
       "    if (js_urls == null) js_urls = [];\n",
       "\n",
       "    root._bokeh_onload_callbacks.push(callback);\n",
       "    if (root._bokeh_is_loading > 0) {\n",
       "      console.debug(\"Bokeh: BokehJS is being loaded, scheduling callback at\", now());\n",
       "      return null;\n",
       "    }\n",
       "    if (js_urls == null || js_urls.length === 0) {\n",
       "      run_callbacks();\n",
       "      return null;\n",
       "    }\n",
       "    console.debug(\"Bokeh: BokehJS not loaded, scheduling load and callback at\", now());\n",
       "    root._bokeh_is_loading = css_urls.length + js_urls.length;\n",
       "\n",
       "    function on_load() {\n",
       "      root._bokeh_is_loading--;\n",
       "      if (root._bokeh_is_loading === 0) {\n",
       "        console.debug(\"Bokeh: all BokehJS libraries/stylesheets loaded\");\n",
       "        run_callbacks()\n",
       "      }\n",
       "    }\n",
       "\n",
       "    function on_error() {\n",
       "      console.error(\"failed to load \" + url);\n",
       "    }\n",
       "\n",
       "    for (var i = 0; i < css_urls.length; i++) {\n",
       "      var url = css_urls[i];\n",
       "      const element = document.createElement(\"link\");\n",
       "      element.onload = on_load;\n",
       "      element.onerror = on_error;\n",
       "      element.rel = \"stylesheet\";\n",
       "      element.type = \"text/css\";\n",
       "      element.href = url;\n",
       "      console.debug(\"Bokeh: injecting link tag for BokehJS stylesheet: \", url);\n",
       "      document.body.appendChild(element);\n",
       "    }\n",
       "\n",
       "    const hashes = {\"https://cdn.bokeh.org/bokeh/release/bokeh-2.2.3.min.js\": \"T2yuo9Oe71Cz/I4X9Ac5+gpEa5a8PpJCDlqKYO0CfAuEszu1JrXLl8YugMqYe3sM\", \"https://cdn.bokeh.org/bokeh/release/bokeh-widgets-2.2.3.min.js\": \"98GDGJ0kOMCUMUePhksaQ/GYgB3+NH9h996V88sh3aOiUNX3N+fLXAtry6xctSZ6\", \"https://cdn.bokeh.org/bokeh/release/bokeh-tables-2.2.3.min.js\": \"89bArO+nlbP3sgakeHjCo1JYxYR5wufVgA3IbUvDY+K7w4zyxJqssu7wVnfeKCq8\"};\n",
       "\n",
       "    for (var i = 0; i < js_urls.length; i++) {\n",
       "      var url = js_urls[i];\n",
       "      var element = document.createElement('script');\n",
       "      element.onload = on_load;\n",
       "      element.onerror = on_error;\n",
       "      element.async = false;\n",
       "      element.src = url;\n",
       "      if (url in hashes) {\n",
       "        element.crossOrigin = \"anonymous\";\n",
       "        element.integrity = \"sha384-\" + hashes[url];\n",
       "      }\n",
       "      console.debug(\"Bokeh: injecting script tag for BokehJS library: \", url);\n",
       "      document.head.appendChild(element);\n",
       "    }\n",
       "  };\n",
       "\n",
       "  function inject_raw_css(css) {\n",
       "    const element = document.createElement(\"style\");\n",
       "    element.appendChild(document.createTextNode(css));\n",
       "    document.body.appendChild(element);\n",
       "  }\n",
       "\n",
       "  \n",
       "  var js_urls = [\"https://cdn.bokeh.org/bokeh/release/bokeh-2.2.3.min.js\", \"https://cdn.bokeh.org/bokeh/release/bokeh-widgets-2.2.3.min.js\", \"https://cdn.bokeh.org/bokeh/release/bokeh-tables-2.2.3.min.js\"];\n",
       "  var css_urls = [];\n",
       "  \n",
       "\n",
       "  var inline_js = [\n",
       "    function(Bokeh) {\n",
       "      Bokeh.set_log_level(\"info\");\n",
       "    },\n",
       "    function(Bokeh) {\n",
       "    \n",
       "    \n",
       "    }\n",
       "  ];\n",
       "\n",
       "  function run_inline_js() {\n",
       "    \n",
       "    if (root.Bokeh !== undefined || force === true) {\n",
       "      \n",
       "    for (var i = 0; i < inline_js.length; i++) {\n",
       "      inline_js[i].call(root, root.Bokeh);\n",
       "    }\n",
       "    if (force === true) {\n",
       "        display_loaded();\n",
       "      }} else if (Date.now() < root._bokeh_timeout) {\n",
       "      setTimeout(run_inline_js, 100);\n",
       "    } else if (!root._bokeh_failed_load) {\n",
       "      console.log(\"Bokeh: BokehJS failed to load within specified timeout.\");\n",
       "      root._bokeh_failed_load = true;\n",
       "    } else if (force !== true) {\n",
       "      var cell = $(document.getElementById(\"1001\")).parents('.cell').data().cell;\n",
       "      cell.output_area.append_execute_result(NB_LOAD_WARNING)\n",
       "    }\n",
       "\n",
       "  }\n",
       "\n",
       "  if (root._bokeh_is_loading === 0) {\n",
       "    console.debug(\"Bokeh: BokehJS loaded, going straight to plotting\");\n",
       "    run_inline_js();\n",
       "  } else {\n",
       "    load_libs(css_urls, js_urls, function() {\n",
       "      console.debug(\"Bokeh: BokehJS plotting callback run at\", now());\n",
       "      run_inline_js();\n",
       "    });\n",
       "  }\n",
       "}(window));"
      ],
      "application/vnd.bokehjs_load.v0+json": "\n(function(root) {\n  function now() {\n    return new Date();\n  }\n\n  var force = true;\n\n  if (typeof root._bokeh_onload_callbacks === \"undefined\" || force === true) {\n    root._bokeh_onload_callbacks = [];\n    root._bokeh_is_loading = undefined;\n  }\n\n  \n\n  \n  if (typeof (root._bokeh_timeout) === \"undefined\" || force === true) {\n    root._bokeh_timeout = Date.now() + 5000;\n    root._bokeh_failed_load = false;\n  }\n\n  var NB_LOAD_WARNING = {'data': {'text/html':\n     \"<div style='background-color: #fdd'>\\n\"+\n     \"<p>\\n\"+\n     \"BokehJS does not appear to have successfully loaded. If loading BokehJS from CDN, this \\n\"+\n     \"may be due to a slow or bad network connection. Possible fixes:\\n\"+\n     \"</p>\\n\"+\n     \"<ul>\\n\"+\n     \"<li>re-rerun `output_notebook()` to attempt to load from CDN again, or</li>\\n\"+\n     \"<li>use INLINE resources instead, as so:</li>\\n\"+\n     \"</ul>\\n\"+\n     \"<code>\\n\"+\n     \"from bokeh.resources import INLINE\\n\"+\n     \"output_notebook(resources=INLINE)\\n\"+\n     \"</code>\\n\"+\n     \"</div>\"}};\n\n  function display_loaded() {\n    var el = document.getElementById(\"1001\");\n    if (el != null) {\n      el.textContent = \"BokehJS is loading...\";\n    }\n    if (root.Bokeh !== undefined) {\n      if (el != null) {\n        el.textContent = \"BokehJS \" + root.Bokeh.version + \" successfully loaded.\";\n      }\n    } else if (Date.now() < root._bokeh_timeout) {\n      setTimeout(display_loaded, 100)\n    }\n  }\n\n\n  function run_callbacks() {\n    try {\n      root._bokeh_onload_callbacks.forEach(function(callback) {\n        if (callback != null)\n          callback();\n      });\n    } finally {\n      delete root._bokeh_onload_callbacks\n    }\n    console.debug(\"Bokeh: all callbacks have finished\");\n  }\n\n  function load_libs(css_urls, js_urls, callback) {\n    if (css_urls == null) css_urls = [];\n    if (js_urls == null) js_urls = [];\n\n    root._bokeh_onload_callbacks.push(callback);\n    if (root._bokeh_is_loading > 0) {\n      console.debug(\"Bokeh: BokehJS is being loaded, scheduling callback at\", now());\n      return null;\n    }\n    if (js_urls == null || js_urls.length === 0) {\n      run_callbacks();\n      return null;\n    }\n    console.debug(\"Bokeh: BokehJS not loaded, scheduling load and callback at\", now());\n    root._bokeh_is_loading = css_urls.length + js_urls.length;\n\n    function on_load() {\n      root._bokeh_is_loading--;\n      if (root._bokeh_is_loading === 0) {\n        console.debug(\"Bokeh: all BokehJS libraries/stylesheets loaded\");\n        run_callbacks()\n      }\n    }\n\n    function on_error() {\n      console.error(\"failed to load \" + url);\n    }\n\n    for (var i = 0; i < css_urls.length; i++) {\n      var url = css_urls[i];\n      const element = document.createElement(\"link\");\n      element.onload = on_load;\n      element.onerror = on_error;\n      element.rel = \"stylesheet\";\n      element.type = \"text/css\";\n      element.href = url;\n      console.debug(\"Bokeh: injecting link tag for BokehJS stylesheet: \", url);\n      document.body.appendChild(element);\n    }\n\n    const hashes = {\"https://cdn.bokeh.org/bokeh/release/bokeh-2.2.3.min.js\": \"T2yuo9Oe71Cz/I4X9Ac5+gpEa5a8PpJCDlqKYO0CfAuEszu1JrXLl8YugMqYe3sM\", \"https://cdn.bokeh.org/bokeh/release/bokeh-widgets-2.2.3.min.js\": \"98GDGJ0kOMCUMUePhksaQ/GYgB3+NH9h996V88sh3aOiUNX3N+fLXAtry6xctSZ6\", \"https://cdn.bokeh.org/bokeh/release/bokeh-tables-2.2.3.min.js\": \"89bArO+nlbP3sgakeHjCo1JYxYR5wufVgA3IbUvDY+K7w4zyxJqssu7wVnfeKCq8\"};\n\n    for (var i = 0; i < js_urls.length; i++) {\n      var url = js_urls[i];\n      var element = document.createElement('script');\n      element.onload = on_load;\n      element.onerror = on_error;\n      element.async = false;\n      element.src = url;\n      if (url in hashes) {\n        element.crossOrigin = \"anonymous\";\n        element.integrity = \"sha384-\" + hashes[url];\n      }\n      console.debug(\"Bokeh: injecting script tag for BokehJS library: \", url);\n      document.head.appendChild(element);\n    }\n  };\n\n  function inject_raw_css(css) {\n    const element = document.createElement(\"style\");\n    element.appendChild(document.createTextNode(css));\n    document.body.appendChild(element);\n  }\n\n  \n  var js_urls = [\"https://cdn.bokeh.org/bokeh/release/bokeh-2.2.3.min.js\", \"https://cdn.bokeh.org/bokeh/release/bokeh-widgets-2.2.3.min.js\", \"https://cdn.bokeh.org/bokeh/release/bokeh-tables-2.2.3.min.js\"];\n  var css_urls = [];\n  \n\n  var inline_js = [\n    function(Bokeh) {\n      Bokeh.set_log_level(\"info\");\n    },\n    function(Bokeh) {\n    \n    \n    }\n  ];\n\n  function run_inline_js() {\n    \n    if (root.Bokeh !== undefined || force === true) {\n      \n    for (var i = 0; i < inline_js.length; i++) {\n      inline_js[i].call(root, root.Bokeh);\n    }\n    if (force === true) {\n        display_loaded();\n      }} else if (Date.now() < root._bokeh_timeout) {\n      setTimeout(run_inline_js, 100);\n    } else if (!root._bokeh_failed_load) {\n      console.log(\"Bokeh: BokehJS failed to load within specified timeout.\");\n      root._bokeh_failed_load = true;\n    } else if (force !== true) {\n      var cell = $(document.getElementById(\"1001\")).parents('.cell').data().cell;\n      cell.output_area.append_execute_result(NB_LOAD_WARNING)\n    }\n\n  }\n\n  if (root._bokeh_is_loading === 0) {\n    console.debug(\"Bokeh: BokehJS loaded, going straight to plotting\");\n    run_inline_js();\n  } else {\n    load_libs(css_urls, js_urls, function() {\n      console.debug(\"Bokeh: BokehJS plotting callback run at\", now());\n      run_inline_js();\n    });\n  }\n}(window));"
     },
     "metadata": {},
     "output_type": "display_data"
    }
   ],
   "source": [
    "# Show plots from Bokeh in notebook\n",
    "output_notebook()"
   ]
  },
  {
   "cell_type": "code",
   "execution_count": 42,
   "metadata": {},
   "outputs": [],
   "source": [
    "def plot_reviews(df_pos, df_neg, x_label, vectorizer, log_scale=False):\n",
    "    \"\"\"Creates a figure with positive and negative reviews as two histograms, where negative reviews are inverted along y-axis.\n",
    "\n",
    "    Utilizing Bokeh and Numpy to calculate histograms for both positive and negative reviews. Then \n",
    "    these are plotted and essential tools like tool tips and hover tools are added.\n",
    "\n",
    "    Args:\n",
    "        df_pos: Dataframe of positive reviews.\n",
    "        df_neg: Dataframe of negative reviews.\n",
    "        x_label: The x label that has the timestamp for each review.\n",
    "        log_scale: Optional; If the count is very uneven the log scale can be used by setting log_scale=True.\n",
    "\n",
    "    Returns:\n",
    "        N/A\n",
    "\n",
    "    Raises:\n",
    "        N/A\n",
    "    \"\"\"\n",
    "    \n",
    "    # Define Colors\n",
    "    # Positive, negative, hover, background\n",
    "    colors=[\"#99B898\", \"#FF847C\", \"#FECEA8\", \"#2A363B\"]\n",
    "\n",
    "    # Helper function for handling the datetime to string convertion\n",
    "    def fix_time(time):\n",
    "        \"\"\"Converts datetime object to formatted string.\n",
    "\n",
    "        From Pandas datetime object converted using datetime package into a string.\n",
    "\n",
    "        Args:\n",
    "            time: Vector of pandas datetime values.\n",
    "\n",
    "        Returns:\n",
    "            Converted string.\n",
    "\n",
    "        Raises:\n",
    "            N/A\n",
    "        \"\"\"\n",
    "        return datetime.fromtimestamp(time // 1000).strftime('%Y-%m-%d')\n",
    "\n",
    "    # Use Numpy to calculate histogram and saving to column data store\n",
    "    def create_columndatastore(df, x_label, sentiment, log_scale):\n",
    "        \"\"\"Creates the ColumnDataStore for Bokeh from histogram.\n",
    "\n",
    "        The histogram is calculated using Numpy and then the data is prepared for plotting before creating \n",
    "        the ColumnDataStore object.\n",
    "\n",
    "        Args:\n",
    "            df: Dataframe with datetime data.\n",
    "            x_label: The label for the datetime data.\n",
    "            sentiment: Controls if the histogram is inverted or not. 'neg' inverts the y-axis and 'pos' uses it as is.\n",
    "            log_scale: If y-axis is scaled by log or not.\n",
    "\n",
    "        Returns:\n",
    "            ColumnDataStore object.\n",
    "\n",
    "        Raises:\n",
    "            N/A\n",
    "        \"\"\"\n",
    "            \n",
    "        hist, edges = np.histogram(df[x_label].astype(np.int64) // 10**6, bins = 100)\n",
    "        \n",
    "        hist_df = pd.DataFrame({x_label: hist,\n",
    "                                 \"left\": edges[:-1],\n",
    "                                 \"right\": edges[1:]})\n",
    "        hist_df[\"interval\"] = [f\"{fix_time(left)} to {fix_time(right)}\" for left, \n",
    "                               right in zip(hist_df[\"left\"], hist_df[\"right\"])]\n",
    "        \n",
    "        # Calculate 5 most common words for each interval to use with tool tip later\n",
    "        n = 5\n",
    "        most_common = []\n",
    "        for row in hist_df.itertuples():\n",
    "            # Select all samples within the datetime span\n",
    "            df_selection = df[(df[x_label].astype(np.int64) // 10**6 >= row.left) & \n",
    "                              (df[x_label].astype(np.int64) // 10**6 <= row.right)]\n",
    "            \n",
    "            # Transform and get frequency\n",
    "            tmp_vector = vectorizer.transform(df_selection['review'].tolist())\n",
    "            freqs = zip(vectorizer.get_feature_names(), tmp_vector.sum(axis=0).tolist()[0])  \n",
    "            \n",
    "            # Sort, format and save\n",
    "            top_n = sorted(freqs, key=lambda x: -x[1])[:n]\n",
    "            formatted = ''.join([f\"{a}: {b}<br>\" for a,b in top_n])\n",
    "            most_common.append(formatted)\n",
    "        \n",
    "        # Add to hist_df\n",
    "        hist_df['top_n'] = most_common\n",
    "        \n",
    "        if log_scale:\n",
    "            with np.errstate(divide='ignore'):\n",
    "                hist_df[x_label] = np.nan_to_num(np.log10(hist_df[x_label]), nan=0.0, posinf=0.0, neginf=0.0)\n",
    "            \n",
    "        # If negative reviews flip the axis\n",
    "        if sentiment == 'neg':\n",
    "            hist_df[x_label] = -hist_df[x_label]\n",
    "        \n",
    "        return ColumnDataSource(hist_df)\n",
    "\n",
    "    src_pos = create_columndatastore(df_pos, x_label, 'pos', log_scale)\n",
    "    src_neg = create_columndatastore(df_neg, x_label, 'neg', log_scale)\n",
    "    \n",
    "    # Change tool tips strings if log scale is used.\n",
    "    if log_scale:\n",
    "        y_axis = \"Log base 10\"\n",
    "    else:\n",
    "        y_axis = \"Count\"\n",
    "\n",
    "    # Define the plot\n",
    "    plot = figure(plot_height = 600, plot_width = 1000,\n",
    "                    title = \"Histogram of Reviews\",\n",
    "                    x_axis_label = \"Date\",\n",
    "                    y_axis_label = y_axis)    \n",
    "\n",
    "    # Positive plot\n",
    "    plot.quad(bottom = 0, top = x_label,left = \"left\", \n",
    "        right = \"right\", source = src_pos, fill_color = colors[0], \n",
    "        line_color = \"black\", fill_alpha = 1,\n",
    "        hover_fill_alpha = 0.8, hover_fill_color = colors[2])\n",
    "    \n",
    "    # Negative plot\n",
    "    plot.quad(bottom = 0, top = x_label,left = \"left\", \n",
    "        right = \"right\", source = src_neg, fill_color = colors[1], \n",
    "        line_color = \"black\", fill_alpha = 1,\n",
    "        hover_fill_alpha = 0.8, hover_fill_color = colors[2])\n",
    "\n",
    "    plot.xaxis.formatter=DatetimeTickFormatter(\n",
    "            hours=[\"%d %B %Y\"],\n",
    "            days=[\"%d %B %Y\"],\n",
    "            months=[\"%d %B %Y\"],\n",
    "            years=[\"%d %B %Y\"],\n",
    "        )\n",
    "\n",
    "    # Add Hover Tool\n",
    "    hover = HoverTool(tooltips = [('Interval', '@interval'),\n",
    "                              (y_axis, str(\"@\" + x_label)),\n",
    "                              ('Top 5', '@top_n{safe}')])\n",
    "    plot.add_tools(hover)\n",
    "    \n",
    "    # Plot\n",
    "    show(plot)"
   ]
  },
  {
   "cell_type": "code",
   "execution_count": 43,
   "metadata": {},
   "outputs": [
    {
     "data": {
      "text/html": [
       "\n",
       "\n",
       "\n",
       "\n",
       "\n",
       "\n",
       "  <div class=\"bk-root\" id=\"b17b442a-68d0-4fe4-bac4-ffeb3c43a40c\" data-root-id=\"1004\"></div>\n"
      ]
     },
     "metadata": {},
     "output_type": "display_data"
    },
    {
     "data": {
      "application/javascript": [
       "(function(root) {\n",
       "  function embed_document(root) {\n",
       "    \n",
       "  var docs_json = {\"1f4a1628-21e1-414a-8b8e-a0c69c917c1f\":{\"roots\":{\"references\":[{\"attributes\":{\"below\":[{\"id\":\"1015\"}],\"center\":[{\"id\":\"1018\"},{\"id\":\"1022\"}],\"left\":[{\"id\":\"1019\"}],\"plot_width\":1000,\"renderers\":[{\"id\":\"1041\"},{\"id\":\"1047\"}],\"title\":{\"id\":\"1005\"},\"toolbar\":{\"id\":\"1030\"},\"x_range\":{\"id\":\"1007\"},\"x_scale\":{\"id\":\"1011\"},\"y_range\":{\"id\":\"1009\"},\"y_scale\":{\"id\":\"1013\"}},\"id\":\"1004\",\"subtype\":\"Figure\",\"type\":\"Plot\"},{\"attributes\":{\"bottom\":{\"value\":0},\"fill_alpha\":{\"value\":0.8},\"fill_color\":{\"value\":\"#FECEA8\"},\"left\":{\"field\":\"left\"},\"right\":{\"field\":\"right\"},\"top\":{\"field\":\"timestamp_updated\"}},\"id\":\"1040\",\"type\":\"Quad\"},{\"attributes\":{\"bottom\":{\"value\":0},\"fill_color\":{\"value\":\"#FF847C\"},\"left\":{\"field\":\"left\"},\"right\":{\"field\":\"right\"},\"top\":{\"field\":\"timestamp_updated\"}},\"id\":\"1044\",\"type\":\"Quad\"},{\"attributes\":{},\"id\":\"1058\",\"type\":\"Selection\"},{\"attributes\":{\"data_source\":{\"id\":\"1002\"},\"glyph\":{\"id\":\"1038\"},\"hover_glyph\":{\"id\":\"1040\"},\"muted_glyph\":null,\"nonselection_glyph\":{\"id\":\"1039\"},\"selection_glyph\":null,\"view\":{\"id\":\"1042\"}},\"id\":\"1041\",\"type\":\"GlyphRenderer\"},{\"attributes\":{\"bottom\":{\"value\":0},\"fill_color\":{\"value\":\"#99B898\"},\"left\":{\"field\":\"left\"},\"right\":{\"field\":\"right\"},\"top\":{\"field\":\"timestamp_updated\"}},\"id\":\"1038\",\"type\":\"Quad\"},{\"attributes\":{\"data_source\":{\"id\":\"1003\"},\"glyph\":{\"id\":\"1044\"},\"hover_glyph\":{\"id\":\"1046\"},\"muted_glyph\":null,\"nonselection_glyph\":{\"id\":\"1045\"},\"selection_glyph\":null,\"view\":{\"id\":\"1048\"}},\"id\":\"1047\",\"type\":\"GlyphRenderer\"},{\"attributes\":{\"axis\":{\"id\":\"1019\"},\"dimension\":1,\"ticker\":null},\"id\":\"1022\",\"type\":\"Grid\"},{\"attributes\":{},\"id\":\"1020\",\"type\":\"BasicTicker\"},{\"attributes\":{},\"id\":\"1028\",\"type\":\"HelpTool\"},{\"attributes\":{},\"id\":\"1059\",\"type\":\"UnionRenderers\"},{\"attributes\":{},\"id\":\"1009\",\"type\":\"DataRange1d\"},{\"attributes\":{\"bottom_units\":\"screen\",\"fill_alpha\":0.5,\"fill_color\":\"lightgrey\",\"left_units\":\"screen\",\"level\":\"overlay\",\"line_alpha\":1.0,\"line_color\":\"black\",\"line_dash\":[4,4],\"line_width\":2,\"right_units\":\"screen\",\"top_units\":\"screen\"},\"id\":\"1029\",\"type\":\"BoxAnnotation\"},{\"attributes\":{\"active_drag\":\"auto\",\"active_inspect\":\"auto\",\"active_multi\":null,\"active_scroll\":\"auto\",\"active_tap\":\"auto\",\"tools\":[{\"id\":\"1023\"},{\"id\":\"1024\"},{\"id\":\"1025\"},{\"id\":\"1026\"},{\"id\":\"1027\"},{\"id\":\"1028\"},{\"id\":\"1051\"}]},\"id\":\"1030\",\"type\":\"Toolbar\"},{\"attributes\":{},\"id\":\"1026\",\"type\":\"SaveTool\"},{\"attributes\":{\"bottom\":{\"value\":0},\"fill_alpha\":{\"value\":0.1},\"fill_color\":{\"value\":\"#FF847C\"},\"left\":{\"field\":\"left\"},\"line_alpha\":{\"value\":0.1},\"right\":{\"field\":\"right\"},\"top\":{\"field\":\"timestamp_updated\"}},\"id\":\"1045\",\"type\":\"Quad\"},{\"attributes\":{},\"id\":\"1016\",\"type\":\"BasicTicker\"},{\"attributes\":{\"days\":[\"%d %B %Y\"],\"hours\":[\"%d %B %Y\"],\"months\":[\"%d %B %Y\"],\"years\":[\"%d %B %Y\"]},\"id\":\"1049\",\"type\":\"DatetimeTickFormatter\"},{\"attributes\":{},\"id\":\"1013\",\"type\":\"LinearScale\"},{\"attributes\":{\"text\":\"Histogram of Reviews\"},\"id\":\"1005\",\"type\":\"Title\"},{\"attributes\":{},\"id\":\"1007\",\"type\":\"DataRange1d\"},{\"attributes\":{\"data\":{\"index\":[0,1,2,3,4,5,6,7,8,9,10,11,12,13,14,15,16,17,18,19,20,21,22,23,24,25,26,27,28,29,30,31,32,33,34,35,36,37,38,39,40,41,42,43,44,45,46,47,48,49,50,51,52,53,54,55,56,57,58,59,60,61,62,63,64,65,66,67,68,69,70,71,72,73,74,75,76,77,78,79,80,81,82,83,84,85,86,87,88,89,90,91,92,93,94,95,96,97,98,99],\"interval\":[\"2016-03-24 to 2016-04-11\",\"2016-04-11 to 2016-04-28\",\"2016-04-28 to 2016-05-16\",\"2016-05-16 to 2016-06-02\",\"2016-06-02 to 2016-06-20\",\"2016-06-20 to 2016-07-07\",\"2016-07-07 to 2016-07-25\",\"2016-07-25 to 2016-08-11\",\"2016-08-11 to 2016-08-29\",\"2016-08-29 to 2016-09-15\",\"2016-09-15 to 2016-10-03\",\"2016-10-03 to 2016-10-20\",\"2016-10-20 to 2016-11-06\",\"2016-11-06 to 2016-11-24\",\"2016-11-24 to 2016-12-11\",\"2016-12-11 to 2016-12-29\",\"2016-12-29 to 2017-01-15\",\"2017-01-15 to 2017-02-02\",\"2017-02-02 to 2017-02-19\",\"2017-02-19 to 2017-03-09\",\"2017-03-09 to 2017-03-26\",\"2017-03-26 to 2017-04-13\",\"2017-04-13 to 2017-04-30\",\"2017-04-30 to 2017-05-18\",\"2017-05-18 to 2017-06-04\",\"2017-06-04 to 2017-06-22\",\"2017-06-22 to 2017-07-09\",\"2017-07-09 to 2017-07-27\",\"2017-07-27 to 2017-08-13\",\"2017-08-13 to 2017-08-31\",\"2017-08-31 to 2017-09-17\",\"2017-09-17 to 2017-10-05\",\"2017-10-05 to 2017-10-22\",\"2017-10-22 to 2017-11-09\",\"2017-11-09 to 2017-11-26\",\"2017-11-26 to 2017-12-14\",\"2017-12-14 to 2017-12-31\",\"2017-12-31 to 2018-01-18\",\"2018-01-18 to 2018-02-04\",\"2018-02-04 to 2018-02-22\",\"2018-02-22 to 2018-03-11\",\"2018-03-11 to 2018-03-29\",\"2018-03-29 to 2018-04-15\",\"2018-04-15 to 2018-05-03\",\"2018-05-03 to 2018-05-20\",\"2018-05-20 to 2018-06-07\",\"2018-06-07 to 2018-06-24\",\"2018-06-24 to 2018-07-12\",\"2018-07-12 to 2018-07-29\",\"2018-07-29 to 2018-08-16\",\"2018-08-16 to 2018-09-02\",\"2018-09-02 to 2018-09-20\",\"2018-09-20 to 2018-10-07\",\"2018-10-07 to 2018-10-25\",\"2018-10-25 to 2018-11-11\",\"2018-11-11 to 2018-11-28\",\"2018-11-28 to 2018-12-16\",\"2018-12-16 to 2019-01-02\",\"2019-01-02 to 2019-01-20\",\"2019-01-20 to 2019-02-06\",\"2019-02-06 to 2019-02-24\",\"2019-02-24 to 2019-03-13\",\"2019-03-13 to 2019-03-31\",\"2019-03-31 to 2019-04-17\",\"2019-04-17 to 2019-05-05\",\"2019-05-05 to 2019-05-22\",\"2019-05-22 to 2019-06-09\",\"2019-06-09 to 2019-06-26\",\"2019-06-26 to 2019-07-14\",\"2019-07-14 to 2019-07-31\",\"2019-07-31 to 2019-08-18\",\"2019-08-18 to 2019-09-04\",\"2019-09-04 to 2019-09-22\",\"2019-09-22 to 2019-10-09\",\"2019-10-09 to 2019-10-27\",\"2019-10-27 to 2019-11-13\",\"2019-11-13 to 2019-12-01\",\"2019-12-01 to 2019-12-18\",\"2019-12-18 to 2020-01-05\",\"2020-01-05 to 2020-01-22\",\"2020-01-22 to 2020-02-09\",\"2020-02-09 to 2020-02-26\",\"2020-02-26 to 2020-03-15\",\"2020-03-15 to 2020-04-01\",\"2020-04-01 to 2020-04-19\",\"2020-04-19 to 2020-05-06\",\"2020-05-06 to 2020-05-24\",\"2020-05-24 to 2020-06-10\",\"2020-06-10 to 2020-06-28\",\"2020-06-28 to 2020-07-15\",\"2020-07-15 to 2020-08-02\",\"2020-08-02 to 2020-08-19\",\"2020-08-19 to 2020-09-06\",\"2020-09-06 to 2020-09-23\",\"2020-09-23 to 2020-10-11\",\"2020-10-11 to 2020-10-28\",\"2020-10-28 to 2020-11-14\",\"2020-11-14 to 2020-12-02\",\"2020-12-02 to 2020-12-19\",\"2020-12-19 to 2021-01-06\"],\"left\":{\"__ndarray__\":\"AIB6f5A6dUIAwAN5MUB1QgAAjXLSRXVCAEAWbHNLdUIAgJ9lFFF1QgDAKF+1VnVCAACyWFZcdUIAQDtS92F1QgCAxEuYZ3VCAMBNRTltdUIAANc+2nJ1QgBAYDh7eHVCAIDpMRx+dUIAwHIrvYN1QgAA/CReiXVCAECFHv+OdUIAgA4YoJR1QgDAlxFBmnVCAAAhC+KfdUIAQKoEg6V1QgCAM/4jq3VCAMC898SwdUIAAEbxZbZ1QgBAz+oGvHVCAIBY5KfBdUIAwOHdSMd1QgAAa9fpzHVCAED00IrSdUIAgH3KK9h1QgDABsTM3XVCAACQvW3jdUIAQBm3Dul1QgCAorCv7nVCAMArqlD0dUIAALWj8fl1QgBAPp2S/3VCAIDHljMFdkIAwFCQ1Ap2QgAA2ol1EHZCAEBjgxYWdkIAgOx8txt2QgDAdXZYIXZCAAD/b/kmdkIAQIhpmix2QgCAEWM7MnZCAMCaXNw3dkIAACRWfT12QgBArU8eQ3ZCAIA2Sb9IdkIAwL9CYE52QgAASTwBVHZCAEDSNaJZdkIAgFsvQ192QgDA5CjkZHZCAABuIoVqdkIAQPcbJnB2QgCAgBXHdXZCAMAJD2h7dkIAAJMICYF2QgBAHAKqhnZCAICl+0qMdkIAwC7165F2QgAAuO6Ml3ZCAEBB6C2ddkIAgMrhzqJ2QgDAU9tvqHZCAADd1BCudkIAQGbOsbN2QgCA78dSuXZCAMB4wfO+dkIAAAK7lMR2QgBAi7Q1ynZCAIAUrtbPdkIAwJ2nd9V2QgAAJ6EY23ZCAECwmrngdkIAgDmUWuZ2QgDAwo3763ZCAABMh5zxdkIAQNWAPfd2QgCAXnre/HZCAMDnc38Cd0IAAHFtIAh3QgBA+mbBDXdCAICDYGITd0IAwAxaAxl3QgAAllOkHndCAEAfTUUkd0IAgKhG5il3QgDAMUCHL3dCAAC7OSg1d0IAQEQzyTp3QgCAzSxqQHdCAMBWJgtGd0IAAOAfrEt3QgBAaRlNUXdCAIDyEu5Wd0IAwHsMj1x3QgAABQYwYndCAECO/9Bnd0I=\",\"dtype\":\"float64\",\"order\":\"little\",\"shape\":[100]},\"right\":{\"__ndarray__\":\"AMADeTFAdUIAAI1y0kV1QgBAFmxzS3VCAICfZRRRdUIAwChftVZ1QgAAslhWXHVCAEA7UvdhdUIAgMRLmGd1QgDATUU5bXVCAADXPtpydUIAQGA4e3h1QgCA6TEcfnVCAMByK72DdUIAAPwkXol1QgBAhR7/jnVCAIAOGKCUdUIAwJcRQZp1QgAAIQvin3VCAECqBIOldUIAgDP+I6t1QgDAvPfEsHVCAABG8WW2dUIAQM/qBrx1QgCAWOSnwXVCAMDh3UjHdUIAAGvX6cx1QgBA9NCK0nVCAIB9yivYdUIAwAbEzN11QgAAkL1t43VCAEAZtw7pdUIAgKKwr+51QgDAK6pQ9HVCAAC1o/H5dUIAQD6dkv91QgCAx5YzBXZCAMBQkNQKdkIAANqJdRB2QgBAY4MWFnZCAIDsfLcbdkIAwHV2WCF2QgAA/2/5JnZCAECIaZosdkIAgBFjOzJ2QgDAmlzcN3ZCAAAkVn09dkIAQK1PHkN2QgCANkm/SHZCAMC/QmBOdkIAAEk8AVR2QgBA0jWiWXZCAIBbL0NfdkIAwOQo5GR2QgAAbiKFanZCAED3GyZwdkIAgIAVx3V2QgDACQ9oe3ZCAACTCAmBdkIAQBwCqoZ2QgCApftKjHZCAMAu9euRdkIAALjujJd2QgBAQegtnXZCAIDK4c6idkIAwFPbb6h2QgAA3dQQrnZCAEBmzrGzdkIAgO/HUrl2QgDAeMHzvnZCAAACu5TEdkIAQIu0Ncp2QgCAFK7Wz3ZCAMCdp3fVdkIAACehGNt2QgBAsJq54HZCAIA5lFrmdkIAwMKN++t2QgAATIec8XZCAEDVgD33dkIAgF563vx2QgDA53N/AndCAABxbSAId0IAQPpmwQ13QgCAg2BiE3dCAMAMWgMZd0IAAJZTpB53QgBAH01FJHdCAICoRuYpd0IAwDFAhy93QgAAuzkoNXdCAEBEM8k6d0IAgM0sakB3QgDAViYLRndCAADgH6xLd0IAQGkZTVF3QgCA8hLuVndCAMB7DI9cd0IAAAUGMGJ3QgBAjv/QZ3dCAIAX+XFtd0I=\",\"dtype\":\"float64\",\"order\":\"little\",\"shape\":[100]},\"timestamp_updated\":[-15,-5,-1,-2,0,-2,-2,-1,-3,-1,-3,-4,-4,-3,-5,-1,-4,-2,-2,-1,-2,-2,-2,-3,-4,-4,-17,-2,-1,-5,-4,-2,-1,-1,0,0,-4,-2,-13,-26,-14,-13,-9,-10,-11,-5,-12,-9,-2,-7,-3,-6,-9,-6,-4,-7,-15,-14,-7,-3,-6,-5,-36,-44,-17,-9,-12,-28,-54,-26,-12,-11,-5,-12,-12,-19,-10,-24,-31,-35,-56,-5723,-1751,-283,-189,-110,-95,-77,-60,-78,-70,-69,-64,-39,-30,-55,-37,-93,-540,-176],\"top_n\":[\"game: 34<br>early: 13<br>access: 10<br>freezes: 8<br>alpha: 7<br>\",\"game: 16<br>character: 5<br>diablo: 5<br>level: 5<br>spell: 5<br>\",\"like: 3<br>don: 2<br>lag: 2<br>lags: 2<br>laptop: 2<br>\",\"game: 10<br>able: 5<br>come: 3<br>run: 3<br>alpha: 2<br>\",\"00: 0<br>000: 0<br>0000: 0<br>00000: 0<br>000000: 0<br>\",\"4k: 1<br>broken: 1<br>diablo: 1<br>future: 1<br>game: 1<br>\",\"h1: 10<br>game: 8<br>access: 7<br>doesn: 7<br>early: 7<br>\",\"exceptional: 3<br>game: 3<br>just: 2<br>optimization: 2<br>performance: 2<br>\",\"game: 20<br>include: 15<br>sounds: 15<br>like: 9<br>im: 7<br>\",\"game: 3<br>charge: 2<br>fun: 2<br>playable: 2<br>right: 2<br>\",\"game: 9<br>skills: 9<br>character: 8<br>stairs: 4<br>enemy: 3<br>\",\"game: 6<br>work: 4<br>arpg: 3<br>lot: 3<br>check: 2<br>\",\"game: 9<br>diablo: 7<br>crash: 4<br>devs: 4<br>goes: 3<br>\",\"game: 9<br>issues: 4<br>enemies: 3<br>bought: 2<br>certain: 2<br>\",\"game: 10<br>ve: 9<br>feel: 7<br>combat: 6<br>like: 6<br>\",\"really: 3<br>bugs: 2<br>game: 2<br>potential: 2<br>ass: 1<br>\",\"game: 7<br>like: 4<br>quest: 4<br>buy: 3<br>demo: 2<br>\",\"just: 5<br>diablo: 4<br>game: 3<br>active: 2<br>books: 2<br>\",\"game: 14<br>hacker: 7<br>crops: 6<br>farm: 4<br>good: 4<br>\",\"just: 5<br>armor: 3<br>better: 3<br>bother: 3<br>game: 3<br>\",\"game: 4<br>don: 3<br>bad: 2<br>concept: 2<br>guys: 2<br>\",\"game: 6<br>just: 4<br>download: 2<br>issue: 2<br>play: 2<br>\",\"just: 3<br>alpha: 2<br>atm: 2<br>better: 2<br>later: 2<br>\",\"beginning: 2<br>character: 2<br>25: 1<br>buying: 1<br>cave: 1<br>\",\"game: 8<br>really: 6<br>alpha: 3<br>devs: 3<br>early: 3<br>\",\"game: 19<br>big: 4<br>developers: 3<br>unplayable: 3<br>way: 3<br>\",\"game: 34<br>character: 12<br>just: 12<br>like: 10<br>good: 9<br>\",\"control: 2<br>don: 2<br>game: 2<br>way: 2<br>20: 1<br>\",\"bugged: 1<br>crashes: 1<br>inventory: 1<br>random: 1<br>rest: 1<br>\",\"game: 9<br>skill: 5<br>skills: 5<br>don: 4<br>like: 4<br>\",\"game: 17<br>like: 6<br>alot: 5<br>character: 5<br>different: 5<br>\",\"game: 9<br>access: 3<br>early: 3<br>developers: 2<br>diablo: 2<br>\",\"alpha: 1<br>atm: 1<br>certain: 1<br>changes: 1<br>come: 1<br>\",\"content: 2<br>hit: 2<br>level: 2<br>melee: 2<br>years: 2<br>\",\"00: 0<br>000: 0<br>0000: 0<br>00000: 0<br>000000: 0<br>\",\"00: 0<br>000: 0<br>0000: 0<br>00000: 0<br>000000: 0<br>\",\"game: 11<br>stuck: 4<br>blue: 3<br>character: 3<br>drops: 3<br>\",\"game: 2<br>access: 1<br>ago: 1<br>alpha: 1<br>bought: 1<br>\",\"game: 27<br>crashes: 6<br>potential: 6<br>development: 5<br>diablo: 5<br>\",\"game: 58<br>crashes: 13<br>just: 10<br>alpha: 9<br>diablo: 9<br>\",\"game: 35<br>like: 15<br>character: 10<br>alpha: 9<br>early: 8<br>\",\"game: 28<br>diablo: 10<br>just: 9<br>like: 8<br>alpha: 6<br>\",\"game: 30<br>just: 10<br>developers: 7<br>play: 7<br>bugs: 6<br>\",\"game: 27<br>alpha: 7<br>just: 6<br>good: 5<br>level: 5<br>\",\"game: 58<br>really: 16<br>just: 15<br>time: 14<br>like: 11<br>\",\"game: 22<br>don: 7<br>bugs: 6<br>just: 5<br>make: 5<br>\",\"game: 18<br>like: 8<br>money: 6<br>games: 5<br>just: 5<br>\",\"like: 16<br>game: 13<br>character: 7<br>left: 7<br>click: 6<br>\",\"game: 12<br>start: 8<br>character: 5<br>create: 5<br>min: 5<br>\",\"game: 17<br>bugs: 8<br>stuff: 7<br>enemies: 5<br>like: 5<br>\",\"game: 9<br>complete: 4<br>dev: 3<br>going: 3<br>like: 3<br>\",\"game: 17<br>like: 5<br>community: 4<br>developers: 3<br>dont: 3<br>\",\"game: 21<br>money: 6<br>like: 5<br>months: 5<br>state: 5<br>\",\"game: 9<br>beta: 4<br>alpha: 3<br>help: 3<br>just: 3<br>\",\"game: 17<br>access: 7<br>early: 7<br>don: 6<br>like: 6<br>\",\"game: 20<br>devs: 4<br>don: 4<br>gameplay: 4<br>play: 4<br>\",\"game: 62<br>just: 23<br>good: 16<br>feels: 14<br>alpha: 13<br>\",\"game: 31<br>hours: 7<br>content: 6<br>just: 6<br>like: 6<br>\",\"game: 4<br>year: 3<br>current: 2<br>don: 2<br>dont: 2<br>\",\"game: 5<br>buy: 2<br>coming: 2<br>development: 2<br>diablo: 2<br>\",\"game: 12<br>time: 4<br>devs: 3<br>access: 2<br>development: 2<br>\",\"game: 12<br>beta: 4<br>alpha: 3<br>like: 3<br>access: 2<br>\",\"game: 108<br>just: 33<br>beta: 24<br>people: 24<br>alpha: 23<br>\",\"game: 114<br>beta: 31<br>like: 30<br>just: 26<br>time: 20<br>\",\"game: 41<br>like: 15<br>ve: 9<br>alpha: 8<br>beta: 8<br>\",\"game: 25<br>character: 6<br>combat: 5<br>make: 5<br>time: 5<br>\",\"game: 36<br>story: 11<br>alpha: 8<br>like: 8<br>beta: 7<br>\",\"game: 81<br>like: 24<br>just: 22<br>time: 16<br>good: 14<br>\",\"game: 149<br>like: 41<br>just: 39<br>time: 24<br>alpha: 22<br>\",\"game: 67<br>just: 16<br>like: 16<br>time: 16<br>tree: 14<br>\",\"game: 61<br>like: 21<br>just: 14<br>review: 13<br>make: 11<br>\",\"game: 69<br>like: 21<br>just: 16<br>character: 12<br>skills: 12<br>\",\"game: 9<br>say: 5<br>gameplay: 4<br>hope: 4<br>really: 4<br>\",\"game: 63<br>like: 21<br>play: 12<br>don: 11<br>just: 10<br>\",\"game: 41<br>like: 19<br>feel: 12<br>play: 12<br>just: 9<br>\",\"game: 41<br>like: 17<br>diablo: 16<br>play: 15<br>just: 13<br>\",\"game: 30<br>just: 9<br>really: 7<br>beta: 6<br>like: 6<br>\",\"game: 56<br>like: 22<br>skill: 21<br>just: 17<br>use: 17<br>\",\"game: 87<br>just: 30<br>skill: 19<br>time: 18<br>diablo: 17<br>\",\"game: 83<br>like: 25<br>diablo: 22<br>just: 21<br>play: 19<br>\",\"game: 87<br>like: 31<br>just: 20<br>character: 19<br>diablo: 19<br>\",\"game: 13158<br>bugs: 3193<br>just: 2638<br>play: 2517<br>like: 2327<br>\",\"game: 4684<br>bugs: 1173<br>just: 954<br>like: 806<br>time: 634<br>\",\"game: 736<br>bugs: 159<br>just: 146<br>like: 136<br>play: 119<br>\",\"game: 493<br>like: 108<br>bugs: 106<br>just: 97<br>play: 84<br>\",\"game: 298<br>just: 69<br>like: 63<br>time: 50<br>bugs: 47<br>\",\"game: 196<br>bugs: 38<br>just: 36<br>time: 35<br>like: 30<br>\",\"game: 179<br>just: 38<br>like: 34<br>bugs: 31<br>time: 30<br>\",\"game: 152<br>like: 39<br>just: 37<br>good: 25<br>skills: 24<br>\",\"game: 124<br>just: 35<br>like: 28<br>bugs: 23<br>really: 17<br>\",\"game: 182<br>bugs: 45<br>just: 42<br>like: 37<br>play: 33<br>\",\"game: 202<br>just: 80<br>like: 59<br>bugs: 37<br>play: 36<br>\",\"game: 151<br>just: 40<br>bugs: 28<br>like: 27<br>play: 23<br>\",\"game: 114<br>like: 21<br>diablo: 19<br>just: 17<br>play: 17<br>\",\"game: 48<br>bugs: 15<br>like: 8<br>crashes: 7<br>release: 7<br>\",\"game: 119<br>bugs: 38<br>play: 21<br>just: 19<br>like: 17<br>\",\"game: 109<br>just: 28<br>like: 24<br>time: 21<br>bugs: 20<br>\",\"game: 214<br>like: 54<br>bugs: 51<br>just: 49<br>act: 36<br>\",\"game: 1555<br>bugs: 451<br>just: 361<br>like: 313<br>play: 257<br>\",\"game: 473<br>bugs: 152<br>just: 105<br>like: 69<br>time: 69<br>\"]},\"selected\":{\"id\":\"1060\"},\"selection_policy\":{\"id\":\"1061\"}},\"id\":\"1003\",\"type\":\"ColumnDataSource\"},{\"attributes\":{},\"id\":\"1055\",\"type\":\"BasicTickFormatter\"},{\"attributes\":{},\"id\":\"1060\",\"type\":\"Selection\"},{\"attributes\":{},\"id\":\"1024\",\"type\":\"WheelZoomTool\"},{\"attributes\":{\"axis_label\":\"Date\",\"formatter\":{\"id\":\"1049\"},\"ticker\":{\"id\":\"1016\"}},\"id\":\"1015\",\"type\":\"LinearAxis\"},{\"attributes\":{\"bottom\":{\"value\":0},\"fill_alpha\":{\"value\":0.1},\"fill_color\":{\"value\":\"#99B898\"},\"left\":{\"field\":\"left\"},\"line_alpha\":{\"value\":0.1},\"right\":{\"field\":\"right\"},\"top\":{\"field\":\"timestamp_updated\"}},\"id\":\"1039\",\"type\":\"Quad\"},{\"attributes\":{\"source\":{\"id\":\"1003\"}},\"id\":\"1048\",\"type\":\"CDSView\"},{\"attributes\":{},\"id\":\"1023\",\"type\":\"PanTool\"},{\"attributes\":{\"data\":{\"index\":[0,1,2,3,4,5,6,7,8,9,10,11,12,13,14,15,16,17,18,19,20,21,22,23,24,25,26,27,28,29,30,31,32,33,34,35,36,37,38,39,40,41,42,43,44,45,46,47,48,49,50,51,52,53,54,55,56,57,58,59,60,61,62,63,64,65,66,67,68,69,70,71,72,73,74,75,76,77,78,79,80,81,82,83,84,85,86,87,88,89,90,91,92,93,94,95,96,97,98,99],\"interval\":[\"2016-03-24 to 2016-04-11\",\"2016-04-11 to 2016-04-28\",\"2016-04-28 to 2016-05-16\",\"2016-05-16 to 2016-06-02\",\"2016-06-02 to 2016-06-20\",\"2016-06-20 to 2016-07-07\",\"2016-07-07 to 2016-07-25\",\"2016-07-25 to 2016-08-11\",\"2016-08-11 to 2016-08-29\",\"2016-08-29 to 2016-09-15\",\"2016-09-15 to 2016-10-03\",\"2016-10-03 to 2016-10-20\",\"2016-10-20 to 2016-11-07\",\"2016-11-07 to 2016-11-24\",\"2016-11-24 to 2016-12-12\",\"2016-12-12 to 2016-12-29\",\"2016-12-29 to 2017-01-15\",\"2017-01-15 to 2017-02-02\",\"2017-02-02 to 2017-02-19\",\"2017-02-19 to 2017-03-09\",\"2017-03-09 to 2017-03-26\",\"2017-03-26 to 2017-04-13\",\"2017-04-13 to 2017-04-30\",\"2017-04-30 to 2017-05-18\",\"2017-05-18 to 2017-06-04\",\"2017-06-04 to 2017-06-22\",\"2017-06-22 to 2017-07-09\",\"2017-07-09 to 2017-07-27\",\"2017-07-27 to 2017-08-13\",\"2017-08-13 to 2017-08-31\",\"2017-08-31 to 2017-09-17\",\"2017-09-17 to 2017-10-05\",\"2017-10-05 to 2017-10-22\",\"2017-10-22 to 2017-11-09\",\"2017-11-09 to 2017-11-26\",\"2017-11-26 to 2017-12-14\",\"2017-12-14 to 2017-12-31\",\"2017-12-31 to 2018-01-18\",\"2018-01-18 to 2018-02-04\",\"2018-02-04 to 2018-02-22\",\"2018-02-22 to 2018-03-11\",\"2018-03-11 to 2018-03-29\",\"2018-03-29 to 2018-04-15\",\"2018-04-15 to 2018-05-03\",\"2018-05-03 to 2018-05-20\",\"2018-05-20 to 2018-06-07\",\"2018-06-07 to 2018-06-24\",\"2018-06-24 to 2018-07-12\",\"2018-07-12 to 2018-07-29\",\"2018-07-29 to 2018-08-16\",\"2018-08-16 to 2018-09-02\",\"2018-09-02 to 2018-09-20\",\"2018-09-20 to 2018-10-07\",\"2018-10-07 to 2018-10-25\",\"2018-10-25 to 2018-11-11\",\"2018-11-11 to 2018-11-29\",\"2018-11-29 to 2018-12-16\",\"2018-12-16 to 2019-01-03\",\"2019-01-03 to 2019-01-20\",\"2019-01-20 to 2019-02-06\",\"2019-02-06 to 2019-02-24\",\"2019-02-24 to 2019-03-13\",\"2019-03-13 to 2019-03-31\",\"2019-03-31 to 2019-04-17\",\"2019-04-17 to 2019-05-05\",\"2019-05-05 to 2019-05-22\",\"2019-05-22 to 2019-06-09\",\"2019-06-09 to 2019-06-26\",\"2019-06-26 to 2019-07-14\",\"2019-07-14 to 2019-07-31\",\"2019-07-31 to 2019-08-18\",\"2019-08-18 to 2019-09-04\",\"2019-09-04 to 2019-09-22\",\"2019-09-22 to 2019-10-09\",\"2019-10-09 to 2019-10-27\",\"2019-10-27 to 2019-11-13\",\"2019-11-13 to 2019-12-01\",\"2019-12-01 to 2019-12-18\",\"2019-12-18 to 2020-01-05\",\"2020-01-05 to 2020-01-22\",\"2020-01-22 to 2020-02-09\",\"2020-02-09 to 2020-02-26\",\"2020-02-26 to 2020-03-15\",\"2020-03-15 to 2020-04-01\",\"2020-04-01 to 2020-04-19\",\"2020-04-19 to 2020-05-06\",\"2020-05-06 to 2020-05-24\",\"2020-05-24 to 2020-06-10\",\"2020-06-10 to 2020-06-28\",\"2020-06-28 to 2020-07-15\",\"2020-07-15 to 2020-08-02\",\"2020-08-02 to 2020-08-19\",\"2020-08-19 to 2020-09-06\",\"2020-09-06 to 2020-09-23\",\"2020-09-23 to 2020-10-11\",\"2020-10-11 to 2020-10-28\",\"2020-10-28 to 2020-11-15\",\"2020-11-15 to 2020-12-02\",\"2020-12-02 to 2020-12-20\",\"2020-12-20 to 2021-01-06\"],\"left\":{\"__ndarray__\":\"AABsX5Q6dUIAIABfNUB1QgBAlF7WRXVCAGAoXndLdUIAgLxdGFF1QgCgUF25VnVCAMDkXFpcdUIA4Hhc+2F1QgAADVycZ3VCACChWz1tdUIAQDVb3nJ1QgBgyVp/eHVCAIBdWiB+dUIAoPFZwYN1QgDAhVliiXVCAOAZWQOPdUIAAK5YpJR1QgAgQlhFmnVCAEDWV+afdUIAYGpXh6V1QgCA/lYoq3VCAKCSVsmwdUIAwCZWarZ1QgDgulULvHVCAABPVazBdUIAIONUTcd1QgBAd1TuzHVCAGALVI/SdUIAgJ9TMNh1QgCgM1PR3XVCAMDHUnLjdUIA4FtSE+l1QgAA8FG07nVCACCEUVX0dUIAQBhR9vl1QgBgrFCX/3VCAIBAUDgFdkIAoNRP2Qp2QgDAaE96EHZCAOD8ThsWdkIAAJFOvBt2QgAgJU5dIXZCAEC5Tf4mdkIAYE1Nnyx2QgCA4UxAMnZCAKB1TOE3dkIAwAlMgj12QgDgnUsjQ3ZCAAAyS8RIdkIAIMZKZU52QgBAWkoGVHZCAGDuSadZdkIAgIJJSF92QgCgFknpZHZCAMCqSIpqdkIA4D5IK3B2QgAA00fMdXZCACBnR217dkIAQPtGDoF2QgBgj0avhnZCAIAjRlCMdkIAoLdF8ZF2QgDAS0WSl3ZCAODfRDOddkIAAHRE1KJ2QgAgCER1qHZCAECcQxaudkIAYDBDt7N2QgCAxEJYuXZCAKBYQvm+dkIAwOxBmsR2QgDggEE7ynZCAAAVQdzPdkIAIKlAfdV2QgBAPUAe23ZCAGDRP7/gdkIAgGU/YOZ2QgCg+T4B7HZCAMCNPqLxdkIA4CE+Q/d2QgAAtj3k/HZCACBKPYUCd0IAQN48Jgh3QgBgcjzHDXdCAIAGPGgTd0IAoJo7CRl3QgDALjuqHndCAODCOkskd0IAAFc67Cl3QgAg6zmNL3dCAEB/OS41d0IAYBM5zzp3QgCApzhwQHdCAKA7OBFGd0IAwM83skt3QgDgYzdTUXdCAAD4NvRWd0IAIIw2lVx3QgBAIDY2YndCAGC0Nddnd0I=\",\"dtype\":\"float64\",\"order\":\"little\",\"shape\":[100]},\"right\":{\"__ndarray__\":\"ACAAXzVAdUIAQJRe1kV1QgBgKF53S3VCAIC8XRhRdUIAoFBduVZ1QgDA5FxaXHVCAOB4XPthdUIAAA1cnGd1QgAgoVs9bXVCAEA1W95ydUIAYMlaf3h1QgCAXVogfnVCAKDxWcGDdUIAwIVZYol1QgDgGVkDj3VCAACuWKSUdUIAIEJYRZp1QgBA1lfmn3VCAGBqV4eldUIAgP5WKKt1QgCgklbJsHVCAMAmVmq2dUIA4LpVC7x1QgAAT1WswXVCACDjVE3HdUIAQHdU7sx1QgBgC1SP0nVCAICfUzDYdUIAoDNT0d11QgDAx1Jy43VCAOBbUhPpdUIAAPBRtO51QgAghFFV9HVCAEAYUfb5dUIAYKxQl/91QgCAQFA4BXZCAKDUT9kKdkIAwGhPehB2QgDg/E4bFnZCAACRTrwbdkIAICVOXSF2QgBAuU3+JnZCAGBNTZ8sdkIAgOFMQDJ2QgCgdUzhN3ZCAMAJTII9dkIA4J1LI0N2QgAAMkvESHZCACDGSmVOdkIAQFpKBlR2QgBg7kmnWXZCAICCSUhfdkIAoBZJ6WR2QgDAqkiKanZCAOA+SCtwdkIAANNHzHV2QgAgZ0dte3ZCAED7Rg6BdkIAYI9Gr4Z2QgCAI0ZQjHZCAKC3RfGRdkIAwEtFkpd2QgDg30QznXZCAAB0RNSidkIAIAhEdah2QgBAnEMWrnZCAGAwQ7ezdkIAgMRCWLl2QgCgWEL5vnZCAMDsQZrEdkIA4IBBO8p2QgAAFUHcz3ZCACCpQH3VdkIAQD1AHtt2QgBg0T+/4HZCAIBlP2DmdkIAoPk+Aex2QgDAjT6i8XZCAOAhPkP3dkIAALY95Px2QgAgSj2FAndCAEDePCYId0IAYHI8xw13QgCABjxoE3dCAKCaOwkZd0IAwC47qh53QgDgwjpLJHdCAABXOuwpd0IAIOs5jS93QgBAfzkuNXdCAGATOc86d0IAgKc4cEB3QgCgOzgRRndCAMDPN7JLd0IA4GM3U1F3QgAA+Db0VndCACCMNpVcd0IAQCA2NmJ3QgBgtDXXZ3dCAIBINXhtd0I=\",\"dtype\":\"float64\",\"order\":\"little\",\"shape\":[100]},\"timestamp_updated\":[22,3,1,2,3,12,7,2,4,2,7,15,12,3,12,5,6,9,11,7,3,9,5,3,6,3,41,6,13,7,11,5,5,5,12,11,4,8,41,69,16,14,19,31,18,18,16,18,6,11,6,5,10,12,13,57,16,25,10,7,8,6,35,50,22,8,6,42,225,52,25,18,15,21,17,88,96,112,150,188,322,8169,1561,366,201,139,90,93,58,83,63,71,58,42,37,49,29,207,325,121],\"top_n\":[\"game: 37<br>early: 11<br>like: 11<br>good: 9<br>just: 8<br>\",\"game: 6<br>amazing: 3<br>alpha: 2<br>devs: 2<br>features: 2<br>\",\"game: 3<br>arpg: 2<br>access: 1<br>alpha: 1<br>animations: 1<br>\",\"bit: 2<br>inspiron: 2<br>sure: 2<br>11: 1<br>3000: 1<br>\",\"game: 5<br>atmospheric: 1<br>awesome: 1<br>axes: 1<br>better: 1<br>\",\"game: 36<br>early: 10<br>actually: 8<br>alpha: 8<br>like: 7<br>\",\"access: 3<br>alpha: 3<br>dawn: 3<br>early: 3<br>game: 3<br>\",\"game: 3<br>like: 3<br>controller: 2<br>diablo: 2<br>just: 2<br>\",\"game: 14<br>access: 4<br>early: 4<br>good: 4<br>spells: 4<br>\",\"wait: 2<br>concept: 1<br>fantastic: 1<br>finished: 1<br>game: 1<br>\",\"game: 11<br>good: 4<br>lot: 4<br>early: 3<br>time: 3<br>\",\"game: 26<br>graphics: 9<br>early: 8<br>like: 7<br>arpg: 6<br>\",\"game: 16<br>alpha: 5<br>development: 4<br>great: 4<br>combat: 3<br>\",\"10: 2<br>contender: 2<br>deliver: 2<br>diablo: 2<br>dog: 2<br>\",\"game: 9<br>great: 5<br>played: 4<br>really: 4<br>far: 3<br>\",\"game: 6<br>arpg: 3<br>char: 3<br>limited: 3<br>potential: 3<br>\",\"game: 7<br>like: 5<br>think: 4<br>good: 3<br>hair: 3<br>\",\"game: 21<br>skill: 6<br>diablo: 5<br>good: 4<br>like: 4<br>\",\"game: 18<br>graphics: 7<br>nice: 6<br>really: 5<br>arpg: 4<br>\",\"game: 25<br>just: 6<br>good: 5<br>pretty: 5<br>arpg: 4<br>\",\"10: 2<br>arpg: 2<br>diablo: 2<br>game: 2<br>like: 2<br>\",\"game: 21<br>like: 12<br>just: 6<br>love: 6<br>multiplayer: 5<br>\",\"game: 27<br>great: 9<br>like: 8<br>far: 7<br>content: 4<br>\",\"game: 13<br>like: 8<br>good: 4<br>play: 4<br>dont: 3<br>\",\"game: 15<br>really: 7<br>early: 5<br>gear: 5<br>great: 4<br>\",\"game: 15<br>amazing: 3<br>combat: 3<br>devs: 3<br>feel: 3<br>\",\"game: 75<br>like: 27<br>great: 20<br>just: 20<br>good: 19<br>\",\"game: 20<br>really: 5<br>just: 4<br>quite: 4<br>skill: 4<br>\",\"game: 18<br>like: 5<br>nice: 4<br>rage: 4<br>really: 4<br>\",\"game: 22<br>fun: 8<br>amazing: 7<br>games: 7<br>ve: 7<br>\",\"game: 24<br>early: 6<br>fun: 5<br>amazing: 4<br>buy: 4<br>\",\"game: 14<br>really: 4<br>does: 3<br>played: 3<br>considering: 2<br>\",\"game: 9<br>just: 3<br>access: 2<br>based: 2<br>early: 2<br>\",\"game: 15<br>skills: 9<br>play: 8<br>ball: 7<br>player: 7<br>\",\"game: 15<br>great: 8<br>really: 7<br>like: 6<br>alpha: 3<br>\",\"game: 19<br>good: 8<br>great: 6<br>content: 4<br>early: 4<br>\",\"game: 14<br>oyun: 5<br>bir: 4<br>devs: 4<br>great: 4<br>\",\"game: 18<br>like: 7<br>arpg: 5<br>diablo: 5<br>early: 5<br>\",\"game: 101<br>like: 31<br>alpha: 26<br>great: 25<br>really: 25<br>\",\"game: 178<br>like: 40<br>good: 37<br>alpha: 29<br>diablo: 28<br>\",\"game: 40<br>love: 12<br>diablo: 10<br>great: 10<br>path: 8<br>\",\"game: 30<br>great: 6<br>fun: 5<br>good: 5<br>play: 5<br>\",\"game: 34<br>alpha: 9<br>fun: 8<br>good: 8<br>like: 8<br>\",\"game: 62<br>like: 18<br>really: 12<br>great: 10<br>play: 9<br>\",\"game: 23<br>alpha: 6<br>content: 6<br>good: 6<br>far: 5<br>\",\"game: 36<br>like: 17<br>skill: 15<br>beta: 9<br>play: 8<br>\",\"game: 42<br>like: 14<br>character: 10<br>bit: 9<br>combat: 9<br>\",\"game: 40<br>rage: 12<br>pretty: 11<br>good: 10<br>like: 10<br>\",\"game: 14<br>really: 9<br>hours: 7<br>alpha: 5<br>awesome: 5<br>\",\"game: 23<br>really: 12<br>like: 8<br>character: 7<br>fun: 7<br>\",\"game: 16<br>really: 5<br>development: 4<br>just: 4<br>model: 4<br>\",\"game: 11<br>development: 9<br>diablo: 8<br>ve: 8<br>like: 7<br>\",\"game: 30<br>beta: 7<br>going: 7<br>great: 7<br>don: 6<br>\",\"game: 19<br>great: 8<br>just: 7<br>play: 6<br>awesome: 5<br>\",\"game: 25<br>good: 10<br>like: 7<br>beta: 6<br>better: 6<br>\",\"game: 90<br>beta: 21<br>good: 16<br>great: 16<br>diablo: 15<br>\",\"game: 31<br>like: 9<br>good: 8<br>skill: 8<br>alpha: 7<br>\",\"game: 57<br>like: 18<br>good: 12<br>diablo: 10<br>alpha: 9<br>\",\"game: 10<br>better: 6<br>diablo: 6<br>alpha: 5<br>great: 5<br>\",\"game: 17<br>really: 7<br>beta: 6<br>pretty: 6<br>maybe: 5<br>\",\"game: 11<br>development: 3<br>great: 3<br>access: 2<br>alpha: 2<br>\",\"access: 2<br>blast: 2<br>early: 2<br>enjoy: 2<br>game: 2<br>\",\"game: 55<br>beta: 19<br>good: 15<br>alpha: 11<br>just: 11<br>\",\"game: 76<br>beta: 42<br>like: 36<br>alpha: 22<br>gameplay: 18<br>\",\"game: 30<br>good: 12<br>like: 11<br>story: 8<br>beta: 7<br>\",\"game: 23<br>10: 10<br>just: 7<br>combat: 5<br>time: 4<br>\",\"game: 9<br>good: 5<br>like: 4<br>diablo: 3<br>dont: 3<br>\",\"game: 56<br>good: 16<br>like: 16<br>great: 13<br>time: 11<br>\",\"game: 317<br>good: 109<br>great: 95<br>like: 83<br>really: 78<br>\",\"game: 97<br>like: 34<br>skills: 26<br>great: 24<br>good: 23<br>\",\"game: 52<br>like: 12<br>good: 11<br>story: 11<br>really: 10<br>\",\"game: 47<br>good: 17<br>like: 16<br>story: 10<br>really: 8<br>\",\"game: 40<br>good: 13<br>like: 12<br>really: 11<br>just: 9<br>\",\"game: 54<br>like: 21<br>diablo: 15<br>great: 15<br>skills: 13<br>\",\"game: 53<br>like: 21<br>content: 14<br>diablo: 13<br>just: 12<br>\",\"game: 129<br>good: 35<br>like: 35<br>great: 34<br>diablo: 24<br>\",\"game: 180<br>like: 58<br>diablo: 46<br>good: 39<br>great: 39<br>\",\"game: 127<br>like: 41<br>fun: 35<br>really: 31<br>great: 25<br>\",\"game: 151<br>diablo: 59<br>good: 46<br>like: 46<br>great: 40<br>\",\"game: 218<br>like: 86<br>yes: 64<br>diablo: 61<br>release: 55<br>\",\"game: 369<br>like: 133<br>good: 112<br>diablo: 99<br>great: 86<br>\",\"game: 10000<br>good: 2676<br>like: 2299<br>great: 2211<br>fun: 2106<br>\",\"game: 2176<br>good: 518<br>fun: 514<br>bugs: 511<br>like: 476<br>\",\"game: 518<br>like: 160<br>good: 139<br>fun: 129<br>bugs: 111<br>\",\"game: 305<br>td: 108<br>good: 70<br>like: 67<br>diablo: 61<br>\",\"game: 205<br>good: 52<br>like: 48<br>play: 40<br>diablo: 39<br>\",\"game: 145<br>good: 40<br>play: 40<br>fun: 31<br>like: 29<br>\",\"game: 135<br>good: 46<br>like: 34<br>story: 28<br>bugs: 27<br>\",\"game: 81<br>like: 28<br>just: 19<br>fun: 16<br>good: 16<br>\",\"game: 135<br>good: 42<br>just: 33<br>like: 33<br>diablo: 32<br>\",\"game: 94<br>story: 26<br>good: 25<br>arpg: 19<br>fun: 19<br>\",\"game: 107<br>like: 29<br>good: 28<br>fun: 26<br>just: 21<br>\",\"game: 98<br>good: 38<br>like: 22<br>really: 21<br>diablo: 19<br>\",\"game: 58<br>good: 19<br>just: 18<br>diablo: 15<br>like: 15<br>\",\"game: 68<br>good: 19<br>really: 18<br>character: 13<br>diablo: 13<br>\",\"game: 75<br>like: 20<br>fun: 18<br>good: 17<br>great: 17<br>\",\"game: 37<br>good: 19<br>story: 12<br>diablo: 10<br>great: 10<br>\",\"game: 236<br>good: 75<br>like: 72<br>fun: 60<br>story: 54<br>\",\"game: 512<br>like: 113<br>good: 109<br>bugs: 107<br>fun: 85<br>\",\"game: 229<br>like: 57<br>good: 55<br>bugs: 47<br>play: 42<br>\"]},\"selected\":{\"id\":\"1058\"},\"selection_policy\":{\"id\":\"1059\"}},\"id\":\"1002\",\"type\":\"ColumnDataSource\"},{\"attributes\":{\"axis_label\":\"Count\",\"formatter\":{\"id\":\"1055\"},\"ticker\":{\"id\":\"1020\"}},\"id\":\"1019\",\"type\":\"LinearAxis\"},{\"attributes\":{\"axis\":{\"id\":\"1015\"},\"ticker\":null},\"id\":\"1018\",\"type\":\"Grid\"},{\"attributes\":{},\"id\":\"1011\",\"type\":\"LinearScale\"},{\"attributes\":{},\"id\":\"1027\",\"type\":\"ResetTool\"},{\"attributes\":{\"callback\":null,\"tooltips\":[[\"Interval\",\"@interval\"],[\"Count\",\"@timestamp_updated\"],[\"Top 5\",\"@top_n{safe}\"]]},\"id\":\"1051\",\"type\":\"HoverTool\"},{\"attributes\":{},\"id\":\"1061\",\"type\":\"UnionRenderers\"},{\"attributes\":{\"overlay\":{\"id\":\"1029\"}},\"id\":\"1025\",\"type\":\"BoxZoomTool\"},{\"attributes\":{\"source\":{\"id\":\"1002\"}},\"id\":\"1042\",\"type\":\"CDSView\"},{\"attributes\":{\"bottom\":{\"value\":0},\"fill_alpha\":{\"value\":0.8},\"fill_color\":{\"value\":\"#FECEA8\"},\"left\":{\"field\":\"left\"},\"right\":{\"field\":\"right\"},\"top\":{\"field\":\"timestamp_updated\"}},\"id\":\"1046\",\"type\":\"Quad\"}],\"root_ids\":[\"1004\"]},\"title\":\"Bokeh Application\",\"version\":\"2.2.3\"}};\n",
       "  var render_items = [{\"docid\":\"1f4a1628-21e1-414a-8b8e-a0c69c917c1f\",\"root_ids\":[\"1004\"],\"roots\":{\"1004\":\"b17b442a-68d0-4fe4-bac4-ffeb3c43a40c\"}}];\n",
       "  root.Bokeh.embed.embed_items_notebook(docs_json, render_items);\n",
       "\n",
       "  }\n",
       "  if (root.Bokeh !== undefined) {\n",
       "    embed_document(root);\n",
       "  } else {\n",
       "    var attempts = 0;\n",
       "    var timer = setInterval(function(root) {\n",
       "      if (root.Bokeh !== undefined) {\n",
       "        clearInterval(timer);\n",
       "        embed_document(root);\n",
       "      } else {\n",
       "        attempts++;\n",
       "        if (attempts > 100) {\n",
       "          clearInterval(timer);\n",
       "          console.log(\"Bokeh: ERROR: Unable to run BokehJS code because BokehJS library is missing\");\n",
       "        }\n",
       "      }\n",
       "    }, 10, root)\n",
       "  }\n",
       "})(window);"
      ],
      "application/vnd.bokehjs_exec.v0+json": ""
     },
     "metadata": {
      "application/vnd.bokehjs_exec.v0+json": {
       "id": "1004"
      }
     },
     "output_type": "display_data"
    }
   ],
   "source": [
    "plot_reviews(df_viz_pos, df_viz_neg, 'timestamp_updated', vectorizer_val)"
   ]
  },
  {
   "cell_type": "code",
   "execution_count": 44,
   "metadata": {},
   "outputs": [
    {
     "data": {
      "text/html": [
       "\n",
       "\n",
       "\n",
       "\n",
       "\n",
       "\n",
       "  <div class=\"bk-root\" id=\"1f778aff-b190-4541-9069-1f4bb2ef886d\" data-root-id=\"1109\"></div>\n"
      ]
     },
     "metadata": {},
     "output_type": "display_data"
    },
    {
     "data": {
      "application/javascript": [
       "(function(root) {\n",
       "  function embed_document(root) {\n",
       "    \n",
       "  var docs_json = {\"068164f4-4121-4b21-bab2-432a0530887b\":{\"roots\":{\"references\":[{\"attributes\":{\"below\":[{\"id\":\"1120\"}],\"center\":[{\"id\":\"1123\"},{\"id\":\"1127\"}],\"left\":[{\"id\":\"1124\"}],\"plot_width\":1000,\"renderers\":[{\"id\":\"1146\"},{\"id\":\"1152\"}],\"title\":{\"id\":\"1110\"},\"toolbar\":{\"id\":\"1135\"},\"x_range\":{\"id\":\"1112\"},\"x_scale\":{\"id\":\"1116\"},\"y_range\":{\"id\":\"1114\"},\"y_scale\":{\"id\":\"1118\"}},\"id\":\"1109\",\"subtype\":\"Figure\",\"type\":\"Plot\"},{\"attributes\":{\"source\":{\"id\":\"1108\"}},\"id\":\"1153\",\"type\":\"CDSView\"},{\"attributes\":{\"text\":\"Histogram of Reviews\"},\"id\":\"1110\",\"type\":\"Title\"},{\"attributes\":{},\"id\":\"1133\",\"type\":\"HelpTool\"},{\"attributes\":{},\"id\":\"1114\",\"type\":\"DataRange1d\"},{\"attributes\":{\"data_source\":{\"id\":\"1107\"},\"glyph\":{\"id\":\"1143\"},\"hover_glyph\":{\"id\":\"1145\"},\"muted_glyph\":null,\"nonselection_glyph\":{\"id\":\"1144\"},\"selection_glyph\":null,\"view\":{\"id\":\"1147\"}},\"id\":\"1146\",\"type\":\"GlyphRenderer\"},{\"attributes\":{\"axis_label\":\"Log base 10\",\"formatter\":{\"id\":\"1169\"},\"ticker\":{\"id\":\"1125\"}},\"id\":\"1124\",\"type\":\"LinearAxis\"},{\"attributes\":{},\"id\":\"1172\",\"type\":\"Selection\"},{\"attributes\":{},\"id\":\"1125\",\"type\":\"BasicTicker\"},{\"attributes\":{\"bottom\":{\"value\":0},\"fill_color\":{\"value\":\"#FF847C\"},\"left\":{\"field\":\"left\"},\"right\":{\"field\":\"right\"},\"top\":{\"field\":\"timestamp_updated\"}},\"id\":\"1149\",\"type\":\"Quad\"},{\"attributes\":{},\"id\":\"1173\",\"type\":\"UnionRenderers\"},{\"attributes\":{},\"id\":\"1118\",\"type\":\"LinearScale\"},{\"attributes\":{\"source\":{\"id\":\"1107\"}},\"id\":\"1147\",\"type\":\"CDSView\"},{\"attributes\":{\"bottom\":{\"value\":0},\"fill_alpha\":{\"value\":0.1},\"fill_color\":{\"value\":\"#FF847C\"},\"left\":{\"field\":\"left\"},\"line_alpha\":{\"value\":0.1},\"right\":{\"field\":\"right\"},\"top\":{\"field\":\"timestamp_updated\"}},\"id\":\"1150\",\"type\":\"Quad\"},{\"attributes\":{\"bottom\":{\"value\":0},\"fill_alpha\":{\"value\":0.8},\"fill_color\":{\"value\":\"#FECEA8\"},\"left\":{\"field\":\"left\"},\"right\":{\"field\":\"right\"},\"top\":{\"field\":\"timestamp_updated\"}},\"id\":\"1151\",\"type\":\"Quad\"},{\"attributes\":{\"active_drag\":\"auto\",\"active_inspect\":\"auto\",\"active_multi\":null,\"active_scroll\":\"auto\",\"active_tap\":\"auto\",\"tools\":[{\"id\":\"1128\"},{\"id\":\"1129\"},{\"id\":\"1130\"},{\"id\":\"1131\"},{\"id\":\"1132\"},{\"id\":\"1133\"},{\"id\":\"1156\"}]},\"id\":\"1135\",\"type\":\"Toolbar\"},{\"attributes\":{\"bottom\":{\"value\":0},\"fill_alpha\":{\"value\":0.8},\"fill_color\":{\"value\":\"#FECEA8\"},\"left\":{\"field\":\"left\"},\"right\":{\"field\":\"right\"},\"top\":{\"field\":\"timestamp_updated\"}},\"id\":\"1145\",\"type\":\"Quad\"},{\"attributes\":{},\"id\":\"1112\",\"type\":\"DataRange1d\"},{\"attributes\":{\"axis_label\":\"Date\",\"formatter\":{\"id\":\"1154\"},\"ticker\":{\"id\":\"1121\"}},\"id\":\"1120\",\"type\":\"LinearAxis\"},{\"attributes\":{},\"id\":\"1174\",\"type\":\"Selection\"},{\"attributes\":{\"callback\":null,\"tooltips\":[[\"Interval\",\"@interval\"],[\"Log base 10\",\"@timestamp_updated\"],[\"Top 5\",\"@top_n{safe}\"]]},\"id\":\"1156\",\"type\":\"HoverTool\"},{\"attributes\":{},\"id\":\"1175\",\"type\":\"UnionRenderers\"},{\"attributes\":{\"data\":{\"index\":[0,1,2,3,4,5,6,7,8,9,10,11,12,13,14,15,16,17,18,19,20,21,22,23,24,25,26,27,28,29,30,31,32,33,34,35,36,37,38,39,40,41,42,43,44,45,46,47,48,49,50,51,52,53,54,55,56,57,58,59,60,61,62,63,64,65,66,67,68,69,70,71,72,73,74,75,76,77,78,79,80,81,82,83,84,85,86,87,88,89,90,91,92,93,94,95,96,97,98,99],\"interval\":[\"2016-03-24 to 2016-04-11\",\"2016-04-11 to 2016-04-28\",\"2016-04-28 to 2016-05-16\",\"2016-05-16 to 2016-06-02\",\"2016-06-02 to 2016-06-20\",\"2016-06-20 to 2016-07-07\",\"2016-07-07 to 2016-07-25\",\"2016-07-25 to 2016-08-11\",\"2016-08-11 to 2016-08-29\",\"2016-08-29 to 2016-09-15\",\"2016-09-15 to 2016-10-03\",\"2016-10-03 to 2016-10-20\",\"2016-10-20 to 2016-11-07\",\"2016-11-07 to 2016-11-24\",\"2016-11-24 to 2016-12-12\",\"2016-12-12 to 2016-12-29\",\"2016-12-29 to 2017-01-15\",\"2017-01-15 to 2017-02-02\",\"2017-02-02 to 2017-02-19\",\"2017-02-19 to 2017-03-09\",\"2017-03-09 to 2017-03-26\",\"2017-03-26 to 2017-04-13\",\"2017-04-13 to 2017-04-30\",\"2017-04-30 to 2017-05-18\",\"2017-05-18 to 2017-06-04\",\"2017-06-04 to 2017-06-22\",\"2017-06-22 to 2017-07-09\",\"2017-07-09 to 2017-07-27\",\"2017-07-27 to 2017-08-13\",\"2017-08-13 to 2017-08-31\",\"2017-08-31 to 2017-09-17\",\"2017-09-17 to 2017-10-05\",\"2017-10-05 to 2017-10-22\",\"2017-10-22 to 2017-11-09\",\"2017-11-09 to 2017-11-26\",\"2017-11-26 to 2017-12-14\",\"2017-12-14 to 2017-12-31\",\"2017-12-31 to 2018-01-18\",\"2018-01-18 to 2018-02-04\",\"2018-02-04 to 2018-02-22\",\"2018-02-22 to 2018-03-11\",\"2018-03-11 to 2018-03-29\",\"2018-03-29 to 2018-04-15\",\"2018-04-15 to 2018-05-03\",\"2018-05-03 to 2018-05-20\",\"2018-05-20 to 2018-06-07\",\"2018-06-07 to 2018-06-24\",\"2018-06-24 to 2018-07-12\",\"2018-07-12 to 2018-07-29\",\"2018-07-29 to 2018-08-16\",\"2018-08-16 to 2018-09-02\",\"2018-09-02 to 2018-09-20\",\"2018-09-20 to 2018-10-07\",\"2018-10-07 to 2018-10-25\",\"2018-10-25 to 2018-11-11\",\"2018-11-11 to 2018-11-29\",\"2018-11-29 to 2018-12-16\",\"2018-12-16 to 2019-01-03\",\"2019-01-03 to 2019-01-20\",\"2019-01-20 to 2019-02-06\",\"2019-02-06 to 2019-02-24\",\"2019-02-24 to 2019-03-13\",\"2019-03-13 to 2019-03-31\",\"2019-03-31 to 2019-04-17\",\"2019-04-17 to 2019-05-05\",\"2019-05-05 to 2019-05-22\",\"2019-05-22 to 2019-06-09\",\"2019-06-09 to 2019-06-26\",\"2019-06-26 to 2019-07-14\",\"2019-07-14 to 2019-07-31\",\"2019-07-31 to 2019-08-18\",\"2019-08-18 to 2019-09-04\",\"2019-09-04 to 2019-09-22\",\"2019-09-22 to 2019-10-09\",\"2019-10-09 to 2019-10-27\",\"2019-10-27 to 2019-11-13\",\"2019-11-13 to 2019-12-01\",\"2019-12-01 to 2019-12-18\",\"2019-12-18 to 2020-01-05\",\"2020-01-05 to 2020-01-22\",\"2020-01-22 to 2020-02-09\",\"2020-02-09 to 2020-02-26\",\"2020-02-26 to 2020-03-15\",\"2020-03-15 to 2020-04-01\",\"2020-04-01 to 2020-04-19\",\"2020-04-19 to 2020-05-06\",\"2020-05-06 to 2020-05-24\",\"2020-05-24 to 2020-06-10\",\"2020-06-10 to 2020-06-28\",\"2020-06-28 to 2020-07-15\",\"2020-07-15 to 2020-08-02\",\"2020-08-02 to 2020-08-19\",\"2020-08-19 to 2020-09-06\",\"2020-09-06 to 2020-09-23\",\"2020-09-23 to 2020-10-11\",\"2020-10-11 to 2020-10-28\",\"2020-10-28 to 2020-11-15\",\"2020-11-15 to 2020-12-02\",\"2020-12-02 to 2020-12-20\",\"2020-12-20 to 2021-01-06\"],\"left\":{\"__ndarray__\":\"AABsX5Q6dUIAIABfNUB1QgBAlF7WRXVCAGAoXndLdUIAgLxdGFF1QgCgUF25VnVCAMDkXFpcdUIA4Hhc+2F1QgAADVycZ3VCACChWz1tdUIAQDVb3nJ1QgBgyVp/eHVCAIBdWiB+dUIAoPFZwYN1QgDAhVliiXVCAOAZWQOPdUIAAK5YpJR1QgAgQlhFmnVCAEDWV+afdUIAYGpXh6V1QgCA/lYoq3VCAKCSVsmwdUIAwCZWarZ1QgDgulULvHVCAABPVazBdUIAIONUTcd1QgBAd1TuzHVCAGALVI/SdUIAgJ9TMNh1QgCgM1PR3XVCAMDHUnLjdUIA4FtSE+l1QgAA8FG07nVCACCEUVX0dUIAQBhR9vl1QgBgrFCX/3VCAIBAUDgFdkIAoNRP2Qp2QgDAaE96EHZCAOD8ThsWdkIAAJFOvBt2QgAgJU5dIXZCAEC5Tf4mdkIAYE1Nnyx2QgCA4UxAMnZCAKB1TOE3dkIAwAlMgj12QgDgnUsjQ3ZCAAAyS8RIdkIAIMZKZU52QgBAWkoGVHZCAGDuSadZdkIAgIJJSF92QgCgFknpZHZCAMCqSIpqdkIA4D5IK3B2QgAA00fMdXZCACBnR217dkIAQPtGDoF2QgBgj0avhnZCAIAjRlCMdkIAoLdF8ZF2QgDAS0WSl3ZCAODfRDOddkIAAHRE1KJ2QgAgCER1qHZCAECcQxaudkIAYDBDt7N2QgCAxEJYuXZCAKBYQvm+dkIAwOxBmsR2QgDggEE7ynZCAAAVQdzPdkIAIKlAfdV2QgBAPUAe23ZCAGDRP7/gdkIAgGU/YOZ2QgCg+T4B7HZCAMCNPqLxdkIA4CE+Q/d2QgAAtj3k/HZCACBKPYUCd0IAQN48Jgh3QgBgcjzHDXdCAIAGPGgTd0IAoJo7CRl3QgDALjuqHndCAODCOkskd0IAAFc67Cl3QgAg6zmNL3dCAEB/OS41d0IAYBM5zzp3QgCApzhwQHdCAKA7OBFGd0IAwM83skt3QgDgYzdTUXdCAAD4NvRWd0IAIIw2lVx3QgBAIDY2YndCAGC0Nddnd0I=\",\"dtype\":\"float64\",\"order\":\"little\",\"shape\":[100]},\"right\":{\"__ndarray__\":\"ACAAXzVAdUIAQJRe1kV1QgBgKF53S3VCAIC8XRhRdUIAoFBduVZ1QgDA5FxaXHVCAOB4XPthdUIAAA1cnGd1QgAgoVs9bXVCAEA1W95ydUIAYMlaf3h1QgCAXVogfnVCAKDxWcGDdUIAwIVZYol1QgDgGVkDj3VCAACuWKSUdUIAIEJYRZp1QgBA1lfmn3VCAGBqV4eldUIAgP5WKKt1QgCgklbJsHVCAMAmVmq2dUIA4LpVC7x1QgAAT1WswXVCACDjVE3HdUIAQHdU7sx1QgBgC1SP0nVCAICfUzDYdUIAoDNT0d11QgDAx1Jy43VCAOBbUhPpdUIAAPBRtO51QgAghFFV9HVCAEAYUfb5dUIAYKxQl/91QgCAQFA4BXZCAKDUT9kKdkIAwGhPehB2QgDg/E4bFnZCAACRTrwbdkIAICVOXSF2QgBAuU3+JnZCAGBNTZ8sdkIAgOFMQDJ2QgCgdUzhN3ZCAMAJTII9dkIA4J1LI0N2QgAAMkvESHZCACDGSmVOdkIAQFpKBlR2QgBg7kmnWXZCAICCSUhfdkIAoBZJ6WR2QgDAqkiKanZCAOA+SCtwdkIAANNHzHV2QgAgZ0dte3ZCAED7Rg6BdkIAYI9Gr4Z2QgCAI0ZQjHZCAKC3RfGRdkIAwEtFkpd2QgDg30QznXZCAAB0RNSidkIAIAhEdah2QgBAnEMWrnZCAGAwQ7ezdkIAgMRCWLl2QgCgWEL5vnZCAMDsQZrEdkIA4IBBO8p2QgAAFUHcz3ZCACCpQH3VdkIAQD1AHtt2QgBg0T+/4HZCAIBlP2DmdkIAoPk+Aex2QgDAjT6i8XZCAOAhPkP3dkIAALY95Px2QgAgSj2FAndCAEDePCYId0IAYHI8xw13QgCABjxoE3dCAKCaOwkZd0IAwC47qh53QgDgwjpLJHdCAABXOuwpd0IAIOs5jS93QgBAfzkuNXdCAGATOc86d0IAgKc4cEB3QgCgOzgRRndCAMDPN7JLd0IA4GM3U1F3QgAA+Db0VndCACCMNpVcd0IAQCA2NmJ3QgBgtDXXZ3dCAIBINXhtd0I=\",\"dtype\":\"float64\",\"order\":\"little\",\"shape\":[100]},\"timestamp_updated\":{\"__ndarray__\":\"7qN4NJB69T/91U+WJ4nePwAAAAAAAAAA/3mfUBNE0z/91U+WJ4neP3+y441TRPE/P8x4CwsL6z//eZ9QE0TTP/95n1ATROM//3mfUBNE0z8/zHgLCwvrPwAXbBFF0fI/f7LjjVNE8T/91U+WJ4neP3+y441TRPE/AUOwV/Zd5j/+p3dzneboP/3VT5Ynie4/b8VQYIup8D8/zHgLCwvrP/3VT5Ynid4//dVPlieJ7j8BQ7BX9l3mP/3VT5Ynid4//qd3c53m6D/91U+WJ4neP1gMAnL2zfk//qd3c53m6D9PErxDttLxPz/MeAsLC+s/b8VQYIup8D8BQ7BX9l3mPwFDsFf2XeY/AUOwV/Zd5j9/suONU0TxP2/FUGCLqfA//3mfUBNE4z/+Nu/4HObsP1gMAnL2zfk//u4vBu1r/T//eZ9QE0TzP59E5FmKVvI/EMH7VcZ19D/mZ1gUntz3P37JT5+YFfQ/fslPn5gV9D//eZ9QE0TzP37JT5+YFfQ//qd3c53m6D9vxVBgi6nwP/6nd3Od5ug/AUOwV/Zd5j8AAAAAAADwP3+y441TRPE/TxK8Q7bS8T+Qto87EBj8P/95n1ATRPM/AUOwV/Zd9j8AAAAAAADwPz/MeAsLC+s//jbv+Bzm7D/+p3dzneboP6CHlLGAtPg/gCHYK/su+z/uo3g0kHr1P/427/gc5uw//qd3c53m6D8fOng/1Pj5PwAXbBFF0QJAT88L7L90+z8BQ7BX9l32P37JT5+YFfQ/ABdsEUXR8j+fW1Brzyf1P5d9SzXrr/M/7mDI3Jkc/z/+TVsKYrf/Pw/wLWvMZABAgAu2iKJoAUDPO6SreTECQA8fQL0WEARAQgnINB9MD0Aa1jzSFowJQPd3DV8CggRAVy33DfJsAkCEe4/x5CQBQP/qJ8uTRP8/ZV3s+ed+/z9qQpNFADf8P9ma0zqLtP4/HlHkUBnK/D9TIAMTwZ79P2pCk0UAN/w/Hzp4P9T4+T+AYOawWhf5Pz/MeAsLC/s/6mNrcftl9z8/8uF1G4cCQKgqtk1WGARAb8VQYIupAEA=\",\"dtype\":\"float64\",\"order\":\"little\",\"shape\":[100]},\"top_n\":[\"game: 37<br>early: 11<br>like: 11<br>good: 9<br>just: 8<br>\",\"game: 6<br>amazing: 3<br>alpha: 2<br>devs: 2<br>features: 2<br>\",\"game: 3<br>arpg: 2<br>access: 1<br>alpha: 1<br>animations: 1<br>\",\"bit: 2<br>inspiron: 2<br>sure: 2<br>11: 1<br>3000: 1<br>\",\"game: 5<br>atmospheric: 1<br>awesome: 1<br>axes: 1<br>better: 1<br>\",\"game: 36<br>early: 10<br>actually: 8<br>alpha: 8<br>like: 7<br>\",\"access: 3<br>alpha: 3<br>dawn: 3<br>early: 3<br>game: 3<br>\",\"game: 3<br>like: 3<br>controller: 2<br>diablo: 2<br>just: 2<br>\",\"game: 14<br>access: 4<br>early: 4<br>good: 4<br>spells: 4<br>\",\"wait: 2<br>concept: 1<br>fantastic: 1<br>finished: 1<br>game: 1<br>\",\"game: 11<br>good: 4<br>lot: 4<br>early: 3<br>time: 3<br>\",\"game: 26<br>graphics: 9<br>early: 8<br>like: 7<br>arpg: 6<br>\",\"game: 16<br>alpha: 5<br>development: 4<br>great: 4<br>combat: 3<br>\",\"10: 2<br>contender: 2<br>deliver: 2<br>diablo: 2<br>dog: 2<br>\",\"game: 9<br>great: 5<br>played: 4<br>really: 4<br>far: 3<br>\",\"game: 6<br>arpg: 3<br>char: 3<br>limited: 3<br>potential: 3<br>\",\"game: 7<br>like: 5<br>think: 4<br>good: 3<br>hair: 3<br>\",\"game: 21<br>skill: 6<br>diablo: 5<br>good: 4<br>like: 4<br>\",\"game: 18<br>graphics: 7<br>nice: 6<br>really: 5<br>arpg: 4<br>\",\"game: 25<br>just: 6<br>good: 5<br>pretty: 5<br>arpg: 4<br>\",\"10: 2<br>arpg: 2<br>diablo: 2<br>game: 2<br>like: 2<br>\",\"game: 21<br>like: 12<br>just: 6<br>love: 6<br>multiplayer: 5<br>\",\"game: 27<br>great: 9<br>like: 8<br>far: 7<br>content: 4<br>\",\"game: 13<br>like: 8<br>good: 4<br>play: 4<br>dont: 3<br>\",\"game: 15<br>really: 7<br>early: 5<br>gear: 5<br>great: 4<br>\",\"game: 15<br>amazing: 3<br>combat: 3<br>devs: 3<br>feel: 3<br>\",\"game: 75<br>like: 27<br>great: 20<br>just: 20<br>good: 19<br>\",\"game: 20<br>really: 5<br>just: 4<br>quite: 4<br>skill: 4<br>\",\"game: 18<br>like: 5<br>nice: 4<br>rage: 4<br>really: 4<br>\",\"game: 22<br>fun: 8<br>amazing: 7<br>games: 7<br>ve: 7<br>\",\"game: 24<br>early: 6<br>fun: 5<br>amazing: 4<br>buy: 4<br>\",\"game: 14<br>really: 4<br>does: 3<br>played: 3<br>considering: 2<br>\",\"game: 9<br>just: 3<br>access: 2<br>based: 2<br>early: 2<br>\",\"game: 15<br>skills: 9<br>play: 8<br>ball: 7<br>player: 7<br>\",\"game: 15<br>great: 8<br>really: 7<br>like: 6<br>alpha: 3<br>\",\"game: 19<br>good: 8<br>great: 6<br>content: 4<br>early: 4<br>\",\"game: 14<br>oyun: 5<br>bir: 4<br>devs: 4<br>great: 4<br>\",\"game: 18<br>like: 7<br>arpg: 5<br>diablo: 5<br>early: 5<br>\",\"game: 101<br>like: 31<br>alpha: 26<br>great: 25<br>really: 25<br>\",\"game: 178<br>like: 40<br>good: 37<br>alpha: 29<br>diablo: 28<br>\",\"game: 40<br>love: 12<br>diablo: 10<br>great: 10<br>path: 8<br>\",\"game: 30<br>great: 6<br>fun: 5<br>good: 5<br>play: 5<br>\",\"game: 34<br>alpha: 9<br>fun: 8<br>good: 8<br>like: 8<br>\",\"game: 62<br>like: 18<br>really: 12<br>great: 10<br>play: 9<br>\",\"game: 23<br>alpha: 6<br>content: 6<br>good: 6<br>far: 5<br>\",\"game: 36<br>like: 17<br>skill: 15<br>beta: 9<br>play: 8<br>\",\"game: 42<br>like: 14<br>character: 10<br>bit: 9<br>combat: 9<br>\",\"game: 40<br>rage: 12<br>pretty: 11<br>good: 10<br>like: 10<br>\",\"game: 14<br>really: 9<br>hours: 7<br>alpha: 5<br>awesome: 5<br>\",\"game: 23<br>really: 12<br>like: 8<br>character: 7<br>fun: 7<br>\",\"game: 16<br>really: 5<br>development: 4<br>just: 4<br>model: 4<br>\",\"game: 11<br>development: 9<br>diablo: 8<br>ve: 8<br>like: 7<br>\",\"game: 30<br>beta: 7<br>going: 7<br>great: 7<br>don: 6<br>\",\"game: 19<br>great: 8<br>just: 7<br>play: 6<br>awesome: 5<br>\",\"game: 25<br>good: 10<br>like: 7<br>beta: 6<br>better: 6<br>\",\"game: 90<br>beta: 21<br>good: 16<br>great: 16<br>diablo: 15<br>\",\"game: 31<br>like: 9<br>good: 8<br>skill: 8<br>alpha: 7<br>\",\"game: 57<br>like: 18<br>good: 12<br>diablo: 10<br>alpha: 9<br>\",\"game: 10<br>better: 6<br>diablo: 6<br>alpha: 5<br>great: 5<br>\",\"game: 17<br>really: 7<br>beta: 6<br>pretty: 6<br>maybe: 5<br>\",\"game: 11<br>development: 3<br>great: 3<br>access: 2<br>alpha: 2<br>\",\"access: 2<br>blast: 2<br>early: 2<br>enjoy: 2<br>game: 2<br>\",\"game: 55<br>beta: 19<br>good: 15<br>alpha: 11<br>just: 11<br>\",\"game: 76<br>beta: 42<br>like: 36<br>alpha: 22<br>gameplay: 18<br>\",\"game: 30<br>good: 12<br>like: 11<br>story: 8<br>beta: 7<br>\",\"game: 23<br>10: 10<br>just: 7<br>combat: 5<br>time: 4<br>\",\"game: 9<br>good: 5<br>like: 4<br>diablo: 3<br>dont: 3<br>\",\"game: 56<br>good: 16<br>like: 16<br>great: 13<br>time: 11<br>\",\"game: 317<br>good: 109<br>great: 95<br>like: 83<br>really: 78<br>\",\"game: 97<br>like: 34<br>skills: 26<br>great: 24<br>good: 23<br>\",\"game: 52<br>like: 12<br>good: 11<br>story: 11<br>really: 10<br>\",\"game: 47<br>good: 17<br>like: 16<br>story: 10<br>really: 8<br>\",\"game: 40<br>good: 13<br>like: 12<br>really: 11<br>just: 9<br>\",\"game: 54<br>like: 21<br>diablo: 15<br>great: 15<br>skills: 13<br>\",\"game: 53<br>like: 21<br>content: 14<br>diablo: 13<br>just: 12<br>\",\"game: 129<br>good: 35<br>like: 35<br>great: 34<br>diablo: 24<br>\",\"game: 180<br>like: 58<br>diablo: 46<br>good: 39<br>great: 39<br>\",\"game: 127<br>like: 41<br>fun: 35<br>really: 31<br>great: 25<br>\",\"game: 151<br>diablo: 59<br>good: 46<br>like: 46<br>great: 40<br>\",\"game: 218<br>like: 86<br>yes: 64<br>diablo: 61<br>release: 55<br>\",\"game: 369<br>like: 133<br>good: 112<br>diablo: 99<br>great: 86<br>\",\"game: 10000<br>good: 2676<br>like: 2299<br>great: 2211<br>fun: 2106<br>\",\"game: 2176<br>good: 518<br>fun: 514<br>bugs: 511<br>like: 476<br>\",\"game: 518<br>like: 160<br>good: 139<br>fun: 129<br>bugs: 111<br>\",\"game: 305<br>td: 108<br>good: 70<br>like: 67<br>diablo: 61<br>\",\"game: 205<br>good: 52<br>like: 48<br>play: 40<br>diablo: 39<br>\",\"game: 145<br>good: 40<br>play: 40<br>fun: 31<br>like: 29<br>\",\"game: 135<br>good: 46<br>like: 34<br>story: 28<br>bugs: 27<br>\",\"game: 81<br>like: 28<br>just: 19<br>fun: 16<br>good: 16<br>\",\"game: 135<br>good: 42<br>just: 33<br>like: 33<br>diablo: 32<br>\",\"game: 94<br>story: 26<br>good: 25<br>arpg: 19<br>fun: 19<br>\",\"game: 107<br>like: 29<br>good: 28<br>fun: 26<br>just: 21<br>\",\"game: 98<br>good: 38<br>like: 22<br>really: 21<br>diablo: 19<br>\",\"game: 58<br>good: 19<br>just: 18<br>diablo: 15<br>like: 15<br>\",\"game: 68<br>good: 19<br>really: 18<br>character: 13<br>diablo: 13<br>\",\"game: 75<br>like: 20<br>fun: 18<br>good: 17<br>great: 17<br>\",\"game: 37<br>good: 19<br>story: 12<br>diablo: 10<br>great: 10<br>\",\"game: 236<br>good: 75<br>like: 72<br>fun: 60<br>story: 54<br>\",\"game: 512<br>like: 113<br>good: 109<br>bugs: 107<br>fun: 85<br>\",\"game: 229<br>like: 57<br>good: 55<br>bugs: 47<br>play: 42<br>\"]},\"selected\":{\"id\":\"1172\"},\"selection_policy\":{\"id\":\"1173\"}},\"id\":\"1107\",\"type\":\"ColumnDataSource\"},{\"attributes\":{\"bottom\":{\"value\":0},\"fill_alpha\":{\"value\":0.1},\"fill_color\":{\"value\":\"#99B898\"},\"left\":{\"field\":\"left\"},\"line_alpha\":{\"value\":0.1},\"right\":{\"field\":\"right\"},\"top\":{\"field\":\"timestamp_updated\"}},\"id\":\"1144\",\"type\":\"Quad\"},{\"attributes\":{},\"id\":\"1169\",\"type\":\"BasicTickFormatter\"},{\"attributes\":{},\"id\":\"1128\",\"type\":\"PanTool\"},{\"attributes\":{},\"id\":\"1129\",\"type\":\"WheelZoomTool\"},{\"attributes\":{\"axis\":{\"id\":\"1120\"},\"ticker\":null},\"id\":\"1123\",\"type\":\"Grid\"},{\"attributes\":{\"overlay\":{\"id\":\"1134\"}},\"id\":\"1130\",\"type\":\"BoxZoomTool\"},{\"attributes\":{\"axis\":{\"id\":\"1124\"},\"dimension\":1,\"ticker\":null},\"id\":\"1127\",\"type\":\"Grid\"},{\"attributes\":{\"days\":[\"%d %B %Y\"],\"hours\":[\"%d %B %Y\"],\"months\":[\"%d %B %Y\"],\"years\":[\"%d %B %Y\"]},\"id\":\"1154\",\"type\":\"DatetimeTickFormatter\"},{\"attributes\":{\"data\":{\"index\":[0,1,2,3,4,5,6,7,8,9,10,11,12,13,14,15,16,17,18,19,20,21,22,23,24,25,26,27,28,29,30,31,32,33,34,35,36,37,38,39,40,41,42,43,44,45,46,47,48,49,50,51,52,53,54,55,56,57,58,59,60,61,62,63,64,65,66,67,68,69,70,71,72,73,74,75,76,77,78,79,80,81,82,83,84,85,86,87,88,89,90,91,92,93,94,95,96,97,98,99],\"interval\":[\"2016-03-24 to 2016-04-11\",\"2016-04-11 to 2016-04-28\",\"2016-04-28 to 2016-05-16\",\"2016-05-16 to 2016-06-02\",\"2016-06-02 to 2016-06-20\",\"2016-06-20 to 2016-07-07\",\"2016-07-07 to 2016-07-25\",\"2016-07-25 to 2016-08-11\",\"2016-08-11 to 2016-08-29\",\"2016-08-29 to 2016-09-15\",\"2016-09-15 to 2016-10-03\",\"2016-10-03 to 2016-10-20\",\"2016-10-20 to 2016-11-06\",\"2016-11-06 to 2016-11-24\",\"2016-11-24 to 2016-12-11\",\"2016-12-11 to 2016-12-29\",\"2016-12-29 to 2017-01-15\",\"2017-01-15 to 2017-02-02\",\"2017-02-02 to 2017-02-19\",\"2017-02-19 to 2017-03-09\",\"2017-03-09 to 2017-03-26\",\"2017-03-26 to 2017-04-13\",\"2017-04-13 to 2017-04-30\",\"2017-04-30 to 2017-05-18\",\"2017-05-18 to 2017-06-04\",\"2017-06-04 to 2017-06-22\",\"2017-06-22 to 2017-07-09\",\"2017-07-09 to 2017-07-27\",\"2017-07-27 to 2017-08-13\",\"2017-08-13 to 2017-08-31\",\"2017-08-31 to 2017-09-17\",\"2017-09-17 to 2017-10-05\",\"2017-10-05 to 2017-10-22\",\"2017-10-22 to 2017-11-09\",\"2017-11-09 to 2017-11-26\",\"2017-11-26 to 2017-12-14\",\"2017-12-14 to 2017-12-31\",\"2017-12-31 to 2018-01-18\",\"2018-01-18 to 2018-02-04\",\"2018-02-04 to 2018-02-22\",\"2018-02-22 to 2018-03-11\",\"2018-03-11 to 2018-03-29\",\"2018-03-29 to 2018-04-15\",\"2018-04-15 to 2018-05-03\",\"2018-05-03 to 2018-05-20\",\"2018-05-20 to 2018-06-07\",\"2018-06-07 to 2018-06-24\",\"2018-06-24 to 2018-07-12\",\"2018-07-12 to 2018-07-29\",\"2018-07-29 to 2018-08-16\",\"2018-08-16 to 2018-09-02\",\"2018-09-02 to 2018-09-20\",\"2018-09-20 to 2018-10-07\",\"2018-10-07 to 2018-10-25\",\"2018-10-25 to 2018-11-11\",\"2018-11-11 to 2018-11-28\",\"2018-11-28 to 2018-12-16\",\"2018-12-16 to 2019-01-02\",\"2019-01-02 to 2019-01-20\",\"2019-01-20 to 2019-02-06\",\"2019-02-06 to 2019-02-24\",\"2019-02-24 to 2019-03-13\",\"2019-03-13 to 2019-03-31\",\"2019-03-31 to 2019-04-17\",\"2019-04-17 to 2019-05-05\",\"2019-05-05 to 2019-05-22\",\"2019-05-22 to 2019-06-09\",\"2019-06-09 to 2019-06-26\",\"2019-06-26 to 2019-07-14\",\"2019-07-14 to 2019-07-31\",\"2019-07-31 to 2019-08-18\",\"2019-08-18 to 2019-09-04\",\"2019-09-04 to 2019-09-22\",\"2019-09-22 to 2019-10-09\",\"2019-10-09 to 2019-10-27\",\"2019-10-27 to 2019-11-13\",\"2019-11-13 to 2019-12-01\",\"2019-12-01 to 2019-12-18\",\"2019-12-18 to 2020-01-05\",\"2020-01-05 to 2020-01-22\",\"2020-01-22 to 2020-02-09\",\"2020-02-09 to 2020-02-26\",\"2020-02-26 to 2020-03-15\",\"2020-03-15 to 2020-04-01\",\"2020-04-01 to 2020-04-19\",\"2020-04-19 to 2020-05-06\",\"2020-05-06 to 2020-05-24\",\"2020-05-24 to 2020-06-10\",\"2020-06-10 to 2020-06-28\",\"2020-06-28 to 2020-07-15\",\"2020-07-15 to 2020-08-02\",\"2020-08-02 to 2020-08-19\",\"2020-08-19 to 2020-09-06\",\"2020-09-06 to 2020-09-23\",\"2020-09-23 to 2020-10-11\",\"2020-10-11 to 2020-10-28\",\"2020-10-28 to 2020-11-14\",\"2020-11-14 to 2020-12-02\",\"2020-12-02 to 2020-12-19\",\"2020-12-19 to 2021-01-06\"],\"left\":{\"__ndarray__\":\"AIB6f5A6dUIAwAN5MUB1QgAAjXLSRXVCAEAWbHNLdUIAgJ9lFFF1QgDAKF+1VnVCAACyWFZcdUIAQDtS92F1QgCAxEuYZ3VCAMBNRTltdUIAANc+2nJ1QgBAYDh7eHVCAIDpMRx+dUIAwHIrvYN1QgAA/CReiXVCAECFHv+OdUIAgA4YoJR1QgDAlxFBmnVCAAAhC+KfdUIAQKoEg6V1QgCAM/4jq3VCAMC898SwdUIAAEbxZbZ1QgBAz+oGvHVCAIBY5KfBdUIAwOHdSMd1QgAAa9fpzHVCAED00IrSdUIAgH3KK9h1QgDABsTM3XVCAACQvW3jdUIAQBm3Dul1QgCAorCv7nVCAMArqlD0dUIAALWj8fl1QgBAPp2S/3VCAIDHljMFdkIAwFCQ1Ap2QgAA2ol1EHZCAEBjgxYWdkIAgOx8txt2QgDAdXZYIXZCAAD/b/kmdkIAQIhpmix2QgCAEWM7MnZCAMCaXNw3dkIAACRWfT12QgBArU8eQ3ZCAIA2Sb9IdkIAwL9CYE52QgAASTwBVHZCAEDSNaJZdkIAgFsvQ192QgDA5CjkZHZCAABuIoVqdkIAQPcbJnB2QgCAgBXHdXZCAMAJD2h7dkIAAJMICYF2QgBAHAKqhnZCAICl+0qMdkIAwC7165F2QgAAuO6Ml3ZCAEBB6C2ddkIAgMrhzqJ2QgDAU9tvqHZCAADd1BCudkIAQGbOsbN2QgCA78dSuXZCAMB4wfO+dkIAAAK7lMR2QgBAi7Q1ynZCAIAUrtbPdkIAwJ2nd9V2QgAAJ6EY23ZCAECwmrngdkIAgDmUWuZ2QgDAwo3763ZCAABMh5zxdkIAQNWAPfd2QgCAXnre/HZCAMDnc38Cd0IAAHFtIAh3QgBA+mbBDXdCAICDYGITd0IAwAxaAxl3QgAAllOkHndCAEAfTUUkd0IAgKhG5il3QgDAMUCHL3dCAAC7OSg1d0IAQEQzyTp3QgCAzSxqQHdCAMBWJgtGd0IAAOAfrEt3QgBAaRlNUXdCAIDyEu5Wd0IAwHsMj1x3QgAABQYwYndCAECO/9Bnd0I=\",\"dtype\":\"float64\",\"order\":\"little\",\"shape\":[100]},\"right\":{\"__ndarray__\":\"AMADeTFAdUIAAI1y0kV1QgBAFmxzS3VCAICfZRRRdUIAwChftVZ1QgAAslhWXHVCAEA7UvdhdUIAgMRLmGd1QgDATUU5bXVCAADXPtpydUIAQGA4e3h1QgCA6TEcfnVCAMByK72DdUIAAPwkXol1QgBAhR7/jnVCAIAOGKCUdUIAwJcRQZp1QgAAIQvin3VCAECqBIOldUIAgDP+I6t1QgDAvPfEsHVCAABG8WW2dUIAQM/qBrx1QgCAWOSnwXVCAMDh3UjHdUIAAGvX6cx1QgBA9NCK0nVCAIB9yivYdUIAwAbEzN11QgAAkL1t43VCAEAZtw7pdUIAgKKwr+51QgDAK6pQ9HVCAAC1o/H5dUIAQD6dkv91QgCAx5YzBXZCAMBQkNQKdkIAANqJdRB2QgBAY4MWFnZCAIDsfLcbdkIAwHV2WCF2QgAA/2/5JnZCAECIaZosdkIAgBFjOzJ2QgDAmlzcN3ZCAAAkVn09dkIAQK1PHkN2QgCANkm/SHZCAMC/QmBOdkIAAEk8AVR2QgBA0jWiWXZCAIBbL0NfdkIAwOQo5GR2QgAAbiKFanZCAED3GyZwdkIAgIAVx3V2QgDACQ9oe3ZCAACTCAmBdkIAQBwCqoZ2QgCApftKjHZCAMAu9euRdkIAALjujJd2QgBAQegtnXZCAIDK4c6idkIAwFPbb6h2QgAA3dQQrnZCAEBmzrGzdkIAgO/HUrl2QgDAeMHzvnZCAAACu5TEdkIAQIu0Ncp2QgCAFK7Wz3ZCAMCdp3fVdkIAACehGNt2QgBAsJq54HZCAIA5lFrmdkIAwMKN++t2QgAATIec8XZCAEDVgD33dkIAgF563vx2QgDA53N/AndCAABxbSAId0IAQPpmwQ13QgCAg2BiE3dCAMAMWgMZd0IAAJZTpB53QgBAH01FJHdCAICoRuYpd0IAwDFAhy93QgAAuzkoNXdCAEBEM8k6d0IAgM0sakB3QgDAViYLRndCAADgH6xLd0IAQGkZTVF3QgCA8hLuVndCAMB7DI9cd0IAAAUGMGJ3QgBAjv/QZ3dCAIAX+XFtd0I=\",\"dtype\":\"float64\",\"order\":\"little\",\"shape\":[100]},\"timestamp_updated\":{\"__ndarray__\":\"ABdsEUXR8r8BQ7BX9l3mvwAAAAAAAACA/3mfUBNE078AAAAAAAAAgP95n1ATRNO//3mfUBNE078AAAAAAAAAgP3VT5Ynid6/AAAAAAAAAID91U+WJ4nev/95n1ATROO//3mfUBNE47/91U+WJ4nevwFDsFf2Xea/AAAAAAAAAID/eZ9QE0Tjv/95n1ATRNO//3mfUBNE078AAAAAAAAAgP95n1ATRNO//3mfUBNE07//eZ9QE0TTv/3VT5Ynid6//3mfUBNE47//eZ9QE0Tjv5d9SzXrr/O//3mfUBNE078AAAAAAAAAgAFDsFf2Xea//3mfUBNE47//eZ9QE0TTvwAAAAAAAACAAAAAAAAAAIAAAAAAAAAAgAAAAAAAAACA/3mfUBNE47//eZ9QE0TTv08SvEO20vG/z/DjF7uj9r+fRORZilbyv08SvEO20vG//dVPlieJ7r8AAAAAAADwv2/FUGCLqfC/AUOwV/Zd5r9/suONU0Txv/3VT5Ynie6//3mfUBNE078/zHgLCwvrv/3VT5Ynid6//qd3c53m6L/91U+WJ4nuv/6nd3Od5ui//3mfUBNE478/zHgLCwvrvwAXbBFF0fK/n0TkWYpW8r8/zHgLCwvrv/3VT5Ynid6//qd3c53m6L8BQ7BX9l3mv/6nd3Od5vi/boKgCJVL+r+XfUs166/zv/3VT5Ynie6/f7LjjVNE8b8fIwwujyf3v/6+44Tit/u/z/DjF7uj9r9/suONU0Txv2/FUGCLqfC/AUOwV/Zd5r9/suONU0Txv3+y441TRPG/EMH7VcZ19L8AAAAAAADwv/6QC2JYFfa/5mdYFJ7c97+gh5SxgLT4v58BNAKU+Pu/3svaCZ0PDsB6/McBQPIJwG/T6jRCnQPATyM8mzE2AsC3YiiwxVQAwJHi04HBpP+/jisN5hAv/r//07u5TnP8v07md/0ERv6/IGa8hYWF/b/+7i8G7Wv9v/427/gc5vy/zgdQKQB1+b9/9ZPlSaL3v+/mKIyG2Pu/gGDmsFoX+b9lXez5537/v3/fcULx2wXAtx94WM/2AcA=\",\"dtype\":\"float64\",\"order\":\"little\",\"shape\":[100]},\"top_n\":[\"game: 34<br>early: 13<br>access: 10<br>freezes: 8<br>alpha: 7<br>\",\"game: 16<br>character: 5<br>diablo: 5<br>level: 5<br>spell: 5<br>\",\"like: 3<br>don: 2<br>lag: 2<br>lags: 2<br>laptop: 2<br>\",\"game: 10<br>able: 5<br>come: 3<br>run: 3<br>alpha: 2<br>\",\"00: 0<br>000: 0<br>0000: 0<br>00000: 0<br>000000: 0<br>\",\"4k: 1<br>broken: 1<br>diablo: 1<br>future: 1<br>game: 1<br>\",\"h1: 10<br>game: 8<br>access: 7<br>doesn: 7<br>early: 7<br>\",\"exceptional: 3<br>game: 3<br>just: 2<br>optimization: 2<br>performance: 2<br>\",\"game: 20<br>include: 15<br>sounds: 15<br>like: 9<br>im: 7<br>\",\"game: 3<br>charge: 2<br>fun: 2<br>playable: 2<br>right: 2<br>\",\"game: 9<br>skills: 9<br>character: 8<br>stairs: 4<br>enemy: 3<br>\",\"game: 6<br>work: 4<br>arpg: 3<br>lot: 3<br>check: 2<br>\",\"game: 9<br>diablo: 7<br>crash: 4<br>devs: 4<br>goes: 3<br>\",\"game: 9<br>issues: 4<br>enemies: 3<br>bought: 2<br>certain: 2<br>\",\"game: 10<br>ve: 9<br>feel: 7<br>combat: 6<br>like: 6<br>\",\"really: 3<br>bugs: 2<br>game: 2<br>potential: 2<br>ass: 1<br>\",\"game: 7<br>like: 4<br>quest: 4<br>buy: 3<br>demo: 2<br>\",\"just: 5<br>diablo: 4<br>game: 3<br>active: 2<br>books: 2<br>\",\"game: 14<br>hacker: 7<br>crops: 6<br>farm: 4<br>good: 4<br>\",\"just: 5<br>armor: 3<br>better: 3<br>bother: 3<br>game: 3<br>\",\"game: 4<br>don: 3<br>bad: 2<br>concept: 2<br>guys: 2<br>\",\"game: 6<br>just: 4<br>download: 2<br>issue: 2<br>play: 2<br>\",\"just: 3<br>alpha: 2<br>atm: 2<br>better: 2<br>later: 2<br>\",\"beginning: 2<br>character: 2<br>25: 1<br>buying: 1<br>cave: 1<br>\",\"game: 8<br>really: 6<br>alpha: 3<br>devs: 3<br>early: 3<br>\",\"game: 19<br>big: 4<br>developers: 3<br>unplayable: 3<br>way: 3<br>\",\"game: 34<br>character: 12<br>just: 12<br>like: 10<br>good: 9<br>\",\"control: 2<br>don: 2<br>game: 2<br>way: 2<br>20: 1<br>\",\"bugged: 1<br>crashes: 1<br>inventory: 1<br>random: 1<br>rest: 1<br>\",\"game: 9<br>skill: 5<br>skills: 5<br>don: 4<br>like: 4<br>\",\"game: 17<br>like: 6<br>alot: 5<br>character: 5<br>different: 5<br>\",\"game: 9<br>access: 3<br>early: 3<br>developers: 2<br>diablo: 2<br>\",\"alpha: 1<br>atm: 1<br>certain: 1<br>changes: 1<br>come: 1<br>\",\"content: 2<br>hit: 2<br>level: 2<br>melee: 2<br>years: 2<br>\",\"00: 0<br>000: 0<br>0000: 0<br>00000: 0<br>000000: 0<br>\",\"00: 0<br>000: 0<br>0000: 0<br>00000: 0<br>000000: 0<br>\",\"game: 11<br>stuck: 4<br>blue: 3<br>character: 3<br>drops: 3<br>\",\"game: 2<br>access: 1<br>ago: 1<br>alpha: 1<br>bought: 1<br>\",\"game: 27<br>crashes: 6<br>potential: 6<br>development: 5<br>diablo: 5<br>\",\"game: 58<br>crashes: 13<br>just: 10<br>alpha: 9<br>diablo: 9<br>\",\"game: 35<br>like: 15<br>character: 10<br>alpha: 9<br>early: 8<br>\",\"game: 28<br>diablo: 10<br>just: 9<br>like: 8<br>alpha: 6<br>\",\"game: 30<br>just: 10<br>developers: 7<br>play: 7<br>bugs: 6<br>\",\"game: 27<br>alpha: 7<br>just: 6<br>good: 5<br>level: 5<br>\",\"game: 58<br>really: 16<br>just: 15<br>time: 14<br>like: 11<br>\",\"game: 22<br>don: 7<br>bugs: 6<br>just: 5<br>make: 5<br>\",\"game: 18<br>like: 8<br>money: 6<br>games: 5<br>just: 5<br>\",\"like: 16<br>game: 13<br>character: 7<br>left: 7<br>click: 6<br>\",\"game: 12<br>start: 8<br>character: 5<br>create: 5<br>min: 5<br>\",\"game: 17<br>bugs: 8<br>stuff: 7<br>enemies: 5<br>like: 5<br>\",\"game: 9<br>complete: 4<br>dev: 3<br>going: 3<br>like: 3<br>\",\"game: 17<br>like: 5<br>community: 4<br>developers: 3<br>dont: 3<br>\",\"game: 21<br>money: 6<br>like: 5<br>months: 5<br>state: 5<br>\",\"game: 9<br>beta: 4<br>alpha: 3<br>help: 3<br>just: 3<br>\",\"game: 17<br>access: 7<br>early: 7<br>don: 6<br>like: 6<br>\",\"game: 20<br>devs: 4<br>don: 4<br>gameplay: 4<br>play: 4<br>\",\"game: 62<br>just: 23<br>good: 16<br>feels: 14<br>alpha: 13<br>\",\"game: 31<br>hours: 7<br>content: 6<br>just: 6<br>like: 6<br>\",\"game: 4<br>year: 3<br>current: 2<br>don: 2<br>dont: 2<br>\",\"game: 5<br>buy: 2<br>coming: 2<br>development: 2<br>diablo: 2<br>\",\"game: 12<br>time: 4<br>devs: 3<br>access: 2<br>development: 2<br>\",\"game: 12<br>beta: 4<br>alpha: 3<br>like: 3<br>access: 2<br>\",\"game: 108<br>just: 33<br>beta: 24<br>people: 24<br>alpha: 23<br>\",\"game: 114<br>beta: 31<br>like: 30<br>just: 26<br>time: 20<br>\",\"game: 41<br>like: 15<br>ve: 9<br>alpha: 8<br>beta: 8<br>\",\"game: 25<br>character: 6<br>combat: 5<br>make: 5<br>time: 5<br>\",\"game: 36<br>story: 11<br>alpha: 8<br>like: 8<br>beta: 7<br>\",\"game: 81<br>like: 24<br>just: 22<br>time: 16<br>good: 14<br>\",\"game: 149<br>like: 41<br>just: 39<br>time: 24<br>alpha: 22<br>\",\"game: 67<br>just: 16<br>like: 16<br>time: 16<br>tree: 14<br>\",\"game: 61<br>like: 21<br>just: 14<br>review: 13<br>make: 11<br>\",\"game: 69<br>like: 21<br>just: 16<br>character: 12<br>skills: 12<br>\",\"game: 9<br>say: 5<br>gameplay: 4<br>hope: 4<br>really: 4<br>\",\"game: 63<br>like: 21<br>play: 12<br>don: 11<br>just: 10<br>\",\"game: 41<br>like: 19<br>feel: 12<br>play: 12<br>just: 9<br>\",\"game: 41<br>like: 17<br>diablo: 16<br>play: 15<br>just: 13<br>\",\"game: 30<br>just: 9<br>really: 7<br>beta: 6<br>like: 6<br>\",\"game: 56<br>like: 22<br>skill: 21<br>just: 17<br>use: 17<br>\",\"game: 87<br>just: 30<br>skill: 19<br>time: 18<br>diablo: 17<br>\",\"game: 83<br>like: 25<br>diablo: 22<br>just: 21<br>play: 19<br>\",\"game: 87<br>like: 31<br>just: 20<br>character: 19<br>diablo: 19<br>\",\"game: 13158<br>bugs: 3193<br>just: 2638<br>play: 2517<br>like: 2327<br>\",\"game: 4684<br>bugs: 1173<br>just: 954<br>like: 806<br>time: 634<br>\",\"game: 736<br>bugs: 159<br>just: 146<br>like: 136<br>play: 119<br>\",\"game: 493<br>like: 108<br>bugs: 106<br>just: 97<br>play: 84<br>\",\"game: 298<br>just: 69<br>like: 63<br>time: 50<br>bugs: 47<br>\",\"game: 196<br>bugs: 38<br>just: 36<br>time: 35<br>like: 30<br>\",\"game: 179<br>just: 38<br>like: 34<br>bugs: 31<br>time: 30<br>\",\"game: 152<br>like: 39<br>just: 37<br>good: 25<br>skills: 24<br>\",\"game: 124<br>just: 35<br>like: 28<br>bugs: 23<br>really: 17<br>\",\"game: 182<br>bugs: 45<br>just: 42<br>like: 37<br>play: 33<br>\",\"game: 202<br>just: 80<br>like: 59<br>bugs: 37<br>play: 36<br>\",\"game: 151<br>just: 40<br>bugs: 28<br>like: 27<br>play: 23<br>\",\"game: 114<br>like: 21<br>diablo: 19<br>just: 17<br>play: 17<br>\",\"game: 48<br>bugs: 15<br>like: 8<br>crashes: 7<br>release: 7<br>\",\"game: 119<br>bugs: 38<br>play: 21<br>just: 19<br>like: 17<br>\",\"game: 109<br>just: 28<br>like: 24<br>time: 21<br>bugs: 20<br>\",\"game: 214<br>like: 54<br>bugs: 51<br>just: 49<br>act: 36<br>\",\"game: 1555<br>bugs: 451<br>just: 361<br>like: 313<br>play: 257<br>\",\"game: 473<br>bugs: 152<br>just: 105<br>like: 69<br>time: 69<br>\"]},\"selected\":{\"id\":\"1174\"},\"selection_policy\":{\"id\":\"1175\"}},\"id\":\"1108\",\"type\":\"ColumnDataSource\"},{\"attributes\":{},\"id\":\"1132\",\"type\":\"ResetTool\"},{\"attributes\":{\"data_source\":{\"id\":\"1108\"},\"glyph\":{\"id\":\"1149\"},\"hover_glyph\":{\"id\":\"1151\"},\"muted_glyph\":null,\"nonselection_glyph\":{\"id\":\"1150\"},\"selection_glyph\":null,\"view\":{\"id\":\"1153\"}},\"id\":\"1152\",\"type\":\"GlyphRenderer\"},{\"attributes\":{\"bottom_units\":\"screen\",\"fill_alpha\":0.5,\"fill_color\":\"lightgrey\",\"left_units\":\"screen\",\"level\":\"overlay\",\"line_alpha\":1.0,\"line_color\":\"black\",\"line_dash\":[4,4],\"line_width\":2,\"right_units\":\"screen\",\"top_units\":\"screen\"},\"id\":\"1134\",\"type\":\"BoxAnnotation\"},{\"attributes\":{},\"id\":\"1121\",\"type\":\"BasicTicker\"},{\"attributes\":{},\"id\":\"1116\",\"type\":\"LinearScale\"},{\"attributes\":{\"bottom\":{\"value\":0},\"fill_color\":{\"value\":\"#99B898\"},\"left\":{\"field\":\"left\"},\"right\":{\"field\":\"right\"},\"top\":{\"field\":\"timestamp_updated\"}},\"id\":\"1143\",\"type\":\"Quad\"},{\"attributes\":{},\"id\":\"1131\",\"type\":\"SaveTool\"}],\"root_ids\":[\"1109\"]},\"title\":\"Bokeh Application\",\"version\":\"2.2.3\"}};\n",
       "  var render_items = [{\"docid\":\"068164f4-4121-4b21-bab2-432a0530887b\",\"root_ids\":[\"1109\"],\"roots\":{\"1109\":\"1f778aff-b190-4541-9069-1f4bb2ef886d\"}}];\n",
       "  root.Bokeh.embed.embed_items_notebook(docs_json, render_items);\n",
       "\n",
       "  }\n",
       "  if (root.Bokeh !== undefined) {\n",
       "    embed_document(root);\n",
       "  } else {\n",
       "    var attempts = 0;\n",
       "    var timer = setInterval(function(root) {\n",
       "      if (root.Bokeh !== undefined) {\n",
       "        clearInterval(timer);\n",
       "        embed_document(root);\n",
       "      } else {\n",
       "        attempts++;\n",
       "        if (attempts > 100) {\n",
       "          clearInterval(timer);\n",
       "          console.log(\"Bokeh: ERROR: Unable to run BokehJS code because BokehJS library is missing\");\n",
       "        }\n",
       "      }\n",
       "    }, 10, root)\n",
       "  }\n",
       "})(window);"
      ],
      "application/vnd.bokehjs_exec.v0+json": ""
     },
     "metadata": {
      "application/vnd.bokehjs_exec.v0+json": {
       "id": "1109"
      }
     },
     "output_type": "display_data"
    }
   ],
   "source": [
    "plot_reviews(df_viz_pos, df_viz_neg, 'timestamp_updated', vectorizer_val, log_scale=True)"
   ]
  },
  {
   "cell_type": "code",
   "execution_count": null,
   "metadata": {},
   "outputs": [],
   "source": []
  }
 ],
 "metadata": {
  "kernelspec": {
   "display_name": "Python 3",
   "language": "python",
   "name": "python3"
  },
  "language_info": {
   "codemirror_mode": {
    "name": "ipython",
    "version": 3
   },
   "file_extension": ".py",
   "mimetype": "text/x-python",
   "name": "python",
   "nbconvert_exporter": "python",
   "pygments_lexer": "ipython3",
   "version": "3.8.5"
  }
 },
 "nbformat": 4,
 "nbformat_minor": 4
}
